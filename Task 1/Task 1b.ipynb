{
 "cells": [
  {
   "cell_type": "markdown",
   "metadata": {},
   "source": [
    "# Task 1b - Big Data Scenarios - Prof. Meth"
   ]
  },
  {
   "cell_type": "code",
   "execution_count": 1,
   "metadata": {},
   "outputs": [],
   "source": [
    "import pandas as pd\n",
    "import csv\n",
    "\n",
    "df = pd.read_csv('train_data_w_ingredients.csv', sep=';', error_bad_lines=False, index_col=0)"
   ]
  },
  {
   "cell_type": "markdown",
   "metadata": {},
   "source": [
    "First look"
   ]
  },
  {
   "cell_type": "code",
   "execution_count": 2,
   "metadata": {},
   "outputs": [
    {
     "data": {
      "text/plain": [
       "index                                                          1\n",
       "name                                         Vietnamese Pho Soup\n",
       "ingredients    ['8 cups beef broth', '4 cups water', '1 yello...\n",
       "cuisine                                               Vietnamese\n",
       "Name: 1, dtype: object"
      ]
     },
     "execution_count": 2,
     "metadata": {},
     "output_type": "execute_result"
    }
   ],
   "source": [
    "df.iloc[0]"
   ]
  },
  {
   "cell_type": "code",
   "execution_count": 3,
   "metadata": {},
   "outputs": [
    {
     "data": {
      "text/html": [
       "<div>\n",
       "<style scoped>\n",
       "    .dataframe tbody tr th:only-of-type {\n",
       "        vertical-align: middle;\n",
       "    }\n",
       "\n",
       "    .dataframe tbody tr th {\n",
       "        vertical-align: top;\n",
       "    }\n",
       "\n",
       "    .dataframe thead th {\n",
       "        text-align: right;\n",
       "    }\n",
       "</style>\n",
       "<table border=\"1\" class=\"dataframe\">\n",
       "  <thead>\n",
       "    <tr style=\"text-align: right;\">\n",
       "      <th></th>\n",
       "      <th>index</th>\n",
       "      <th>name</th>\n",
       "      <th>ingredients</th>\n",
       "      <th>cuisine</th>\n",
       "    </tr>\n",
       "  </thead>\n",
       "  <tbody>\n",
       "    <tr>\n",
       "      <th>1</th>\n",
       "      <td>1</td>\n",
       "      <td>Vietnamese Pho Soup</td>\n",
       "      <td>['8 cups beef broth', '4 cups water', '1 yello...</td>\n",
       "      <td>Vietnamese</td>\n",
       "    </tr>\n",
       "    <tr>\n",
       "      <th>2</th>\n",
       "      <td>2</td>\n",
       "      <td>Vietnamese Chicken Meatballs</td>\n",
       "      <td>['1 pound ground chicken', '3 tablespoons fish...</td>\n",
       "      <td>Vietnamese</td>\n",
       "    </tr>\n",
       "    <tr>\n",
       "      <th>3</th>\n",
       "      <td>3</td>\n",
       "      <td>Vietnamese Restaurant-Style Grilled Lemongrass...</td>\n",
       "      <td>['1 pound pork blade steaks (boneless, about 1...</td>\n",
       "      <td>Vietnamese</td>\n",
       "    </tr>\n",
       "    <tr>\n",
       "      <th>4</th>\n",
       "      <td>4</td>\n",
       "      <td>Vietnamese Caramel Chicken</td>\n",
       "      <td>['1 pound chicken thighs (with skin, deboned)'...</td>\n",
       "      <td>Vietnamese</td>\n",
       "    </tr>\n",
       "    <tr>\n",
       "      <th>5</th>\n",
       "      <td>5</td>\n",
       "      <td>Cheater Vietnamese Pho (Pho Bo)</td>\n",
       "      <td>['3 marrow bones (beef bone)', '50 ounces beef...</td>\n",
       "      <td>Vietnamese</td>\n",
       "    </tr>\n",
       "  </tbody>\n",
       "</table>\n",
       "</div>"
      ],
      "text/plain": [
       "   index                                               name  \\\n",
       "1      1                                Vietnamese Pho Soup   \n",
       "2      2                       Vietnamese Chicken Meatballs   \n",
       "3      3  Vietnamese Restaurant-Style Grilled Lemongrass...   \n",
       "4      4                         Vietnamese Caramel Chicken   \n",
       "5      5                    Cheater Vietnamese Pho (Pho Bo)   \n",
       "\n",
       "                                         ingredients     cuisine  \n",
       "1  ['8 cups beef broth', '4 cups water', '1 yello...  Vietnamese  \n",
       "2  ['1 pound ground chicken', '3 tablespoons fish...  Vietnamese  \n",
       "3  ['1 pound pork blade steaks (boneless, about 1...  Vietnamese  \n",
       "4  ['1 pound chicken thighs (with skin, deboned)'...  Vietnamese  \n",
       "5  ['3 marrow bones (beef bone)', '50 ounces beef...  Vietnamese  "
      ]
     },
     "execution_count": 3,
     "metadata": {},
     "output_type": "execute_result"
    }
   ],
   "source": [
    "df.head(5)"
   ]
  },
  {
   "cell_type": "code",
   "execution_count": 4,
   "metadata": {},
   "outputs": [
    {
     "name": "stdout",
     "output_type": "stream",
     "text": [
      "Document Count\n",
      "cuisine\n",
      "Chinese       60\n",
      "Greek         50\n",
      "Iberic        40\n",
      "Italian       50\n",
      "Thai          50\n",
      "Vietnamese    50\n",
      "french        50\n",
      "korean        50\n",
      "Name: ingredients, dtype: int64\n"
     ]
    }
   ],
   "source": [
    "print(\"Document Count\")\n",
    "print(df.groupby('cuisine')['ingredients'].count())"
   ]
  },
  {
   "cell_type": "markdown",
   "metadata": {},
   "source": [
    "#### Interpretation\n",
    "Man kann sehen, dass es im Schnitt 50 Rezepte für jede Küchenart gibt. Unsere beiden Küchenarten stechen dabei heraus, da wir 60 Chinesische Rezepte haben und nur 40 ibirische Rezepte."
   ]
  },
  {
   "cell_type": "markdown",
   "metadata": {},
   "source": [
    "## Blick auf die Daten"
   ]
  },
  {
   "cell_type": "code",
   "execution_count": 5,
   "metadata": {},
   "outputs": [
    {
     "data": {
      "text/plain": [
       "\"['8 cups beef broth', '4 cups water', '1 yellow onion (medium, quartered)', '4 cloves garlic (roughly minced)', '3 whole star anise (optional if you don’t like the flavor)', '3 whole cloves (talking about the spice, “cloves”)', '1 ginger (3-inch knob of, sliced into coins)', '1 cinnamon stick', '2 tablespoons fish sauce (optional)', 'salt', 'black pepper', '1 package rice noodles (look for the word “pho” on the package)', '12 ounces steak (very thinly sliced against the grain, I used flank steak)', 'bean sprouts (optional)', 'fresh cilantro (optional)', 'fresh ginger (optional)', 'lime wedges (optional)', 'green onions (optional)', 'jalapenos (optional)', 'thai basil (optional)']\""
      ]
     },
     "execution_count": 5,
     "metadata": {},
     "output_type": "execute_result"
    }
   ],
   "source": [
    "df['ingredients'].iloc[0]"
   ]
  },
  {
   "cell_type": "markdown",
   "metadata": {},
   "source": [
    "#### Interpretation\n",
    "Man kann erkennen das viele Wörter & Symbole unnötig sind (Einheiten, Zahlen, Punctiation). Auch die typischen Stopwords müssen gefiltert werden. Zum verdeutlichen führen wir einen kurzen Test durch indem wir die 30 häufigsten Wörter anschauen"
   ]
  },
  {
   "cell_type": "code",
   "execution_count": 6,
   "metadata": {},
   "outputs": [
    {
     "data": {
      "text/plain": [
       "[(\"'1\", 1637),\n",
       " (\"'2\", 795),\n",
       " ('cup', 733),\n",
       " ('teaspoon', 689),\n",
       " ('tablespoons', 609),\n",
       " (\"'1/2\", 502),\n",
       " ('tablespoon', 458),\n",
       " (\"'1/4\", 331),\n",
       " (\"'3\", 323),\n",
       " ('garlic', 273),\n",
       " ('cups', 270),\n",
       " (\"oil',\", 266),\n",
       " ('and', 239),\n",
       " (\"sauce',\", 237),\n",
       " ('1/2', 227),\n",
       " (\"'4\", 217),\n",
       " ('fresh', 208),\n",
       " ('cloves', 200),\n",
       " ('into', 187),\n",
       " ('ounces', 182),\n",
       " ('teaspoons', 182),\n",
       " ('red', 181),\n",
       " ('chicken', 163),\n",
       " ('ground', 159),\n",
       " (\"['1\", 153),\n",
       " ('or', 149),\n",
       " (\"salt',\", 148),\n",
       " ('soy', 146),\n",
       " ('pound', 144),\n",
       " ('olive', 143)]"
      ]
     },
     "execution_count": 6,
     "metadata": {},
     "output_type": "execute_result"
    }
   ],
   "source": [
    "from collections import Counter\n",
    "df['ingredients'] = df['ingredients']\n",
    "Counter(\" \".join(df[\"ingredients\"]).split()).most_common(30)"
   ]
  },
  {
   "cell_type": "markdown",
   "metadata": {},
   "source": [
    "Die Vermutung lässt also sehr leicht bestätigen indem man die obere Liste betrachtet. \n",
    "Nur die nachfolgenden Begriff können alleinstehend als tatsächliche Zutat erkennen:\n",
    "- garlic\n",
    "- chicken\n",
    "- salt\n",
    "- soy \n",
    "- olive\n",
    "\n",
    "Also gerade einmal 5/30 Zutaten.\n"
   ]
  },
  {
   "cell_type": "markdown",
   "metadata": {},
   "source": [
    "# Preprocessing"
   ]
  },
  {
   "cell_type": "markdown",
   "metadata": {},
   "source": [
    "https://stackoverflow.com/questions/47557563/lemmatization-of-all-pandas-cells"
   ]
  },
  {
   "cell_type": "markdown",
   "metadata": {},
   "source": [
    "Erzeugen von drei zusätzlichen Dataframes"
   ]
  },
  {
   "cell_type": "code",
   "execution_count": 7,
   "metadata": {},
   "outputs": [
    {
     "name": "stderr",
     "output_type": "stream",
     "text": [
      "/Users/adrianawad/opt/anaconda3/lib/python3.8/site-packages/pandas/core/frame.py:4163: SettingWithCopyWarning: \n",
      "A value is trying to be set on a copy of a slice from a DataFrame\n",
      "\n",
      "See the caveats in the documentation: https://pandas.pydata.org/pandas-docs/stable/user_guide/indexing.html#returning-a-view-versus-a-copy\n",
      "  return super().drop(\n"
     ]
    },
    {
     "data": {
      "text/html": [
       "<div>\n",
       "<style scoped>\n",
       "    .dataframe tbody tr th:only-of-type {\n",
       "        vertical-align: middle;\n",
       "    }\n",
       "\n",
       "    .dataframe tbody tr th {\n",
       "        vertical-align: top;\n",
       "    }\n",
       "\n",
       "    .dataframe thead th {\n",
       "        text-align: right;\n",
       "    }\n",
       "</style>\n",
       "<table border=\"1\" class=\"dataframe\">\n",
       "  <thead>\n",
       "    <tr style=\"text-align: right;\">\n",
       "      <th></th>\n",
       "      <th>cuisine</th>\n",
       "      <th>ingredients</th>\n",
       "    </tr>\n",
       "  </thead>\n",
       "  <tbody>\n",
       "    <tr>\n",
       "      <th>301</th>\n",
       "      <td>Chinese</td>\n",
       "      <td>['2 cloves garlic (minced)', '1 tablespoon fre...</td>\n",
       "    </tr>\n",
       "    <tr>\n",
       "      <th>302</th>\n",
       "      <td>Chinese</td>\n",
       "      <td>['6 chicken thighs (free range)', '2 tablespoo...</td>\n",
       "    </tr>\n",
       "    <tr>\n",
       "      <th>303</th>\n",
       "      <td>Chinese</td>\n",
       "      <td>['2 tablespoons butter (divided)', '2 eggs (be...</td>\n",
       "    </tr>\n",
       "    <tr>\n",
       "      <th>304</th>\n",
       "      <td>Chinese</td>\n",
       "      <td>['1 pound lean beef (cut into thin strips)', '...</td>\n",
       "    </tr>\n",
       "    <tr>\n",
       "      <th>305</th>\n",
       "      <td>Chinese</td>\n",
       "      <td>['2 cloves garlic (minced)', '1 tablespoon fre...</td>\n",
       "    </tr>\n",
       "  </tbody>\n",
       "</table>\n",
       "</div>"
      ],
      "text/plain": [
       "     cuisine                                        ingredients\n",
       "301  Chinese  ['2 cloves garlic (minced)', '1 tablespoon fre...\n",
       "302  Chinese  ['6 chicken thighs (free range)', '2 tablespoo...\n",
       "303  Chinese  ['2 tablespoons butter (divided)', '2 eggs (be...\n",
       "304  Chinese  ['1 pound lean beef (cut into thin strips)', '...\n",
       "305  Chinese  ['2 cloves garlic (minced)', '1 tablespoon fre..."
      ]
     },
     "execution_count": 7,
     "metadata": {},
     "output_type": "execute_result"
    }
   ],
   "source": [
    "#only our cuisines\n",
    "new_df = df.loc[(df['cuisine'] == 'Chinese') | (df['cuisine'] == 'Iberic')]\n",
    "\n",
    "new_df.drop([\"index\"], axis=1, inplace=True)\n",
    "new_df.drop([\"name\"], axis=1, inplace=True)\n",
    "new_df=new_df.reindex(columns=['cuisine','ingredients'])\n",
    "new_df.head()"
   ]
  },
  {
   "cell_type": "markdown",
   "metadata": {},
   "source": [
    "## Erstellung von Wörterlisten"
   ]
  },
  {
   "cell_type": "code",
   "execution_count": 8,
   "metadata": {},
   "outputs": [
    {
     "name": "stderr",
     "output_type": "stream",
     "text": [
      "[nltk_data] Downloading package wordnet to\n",
      "[nltk_data]     /Users/adrianawad/nltk_data...\n",
      "[nltk_data]   Package wordnet is already up-to-date!\n"
     ]
    }
   ],
   "source": [
    "import nltk\n",
    "nltk.download('wordnet')\n",
    "from nltk.stem import WordNetLemmatizer\n",
    "\n",
    "lemmatizer = WordNetLemmatizer()\n",
    "\n",
    "#Source for list below\n",
    "#https://en.wikipedia.org/wiki/Cooking_weights_and_measures\n",
    "#https://thebakingpan.com/ingredient-weights-and-measures/\n",
    "measures=['teaspoon','teaspoons''cloves','clove','ounces','tablespoons','litrbes','liter','millilitres','mL','grams','gram','g', 'kg','teaspoon','tsp', 'tablespoon','tbsp','fluid', 'ounce','oz','fl.oz', 'cup','pint','pt','quart','qt','gallon','gal','smidgen','drop','pinch','dash','scruple','dessertspoon','teacup','cup','cups','c','pottle','gill','dram','wineglass','coffeespoon','pound','pounded','lb','tbsp','plus','firmly', 'packed','lightly','level','even','rounded','heaping','heaped','sifted','bushel','peck','stick','chopped','sliced','halves', 'shredded','slivered','sliced','whole','paste','whole',' fresh', 'peeled', 'diced','mashed','dried','frozen','fresh','peeled','candied','no', 'pulp','crystallized','canned','crushed','minced','julienned','clove','head', 'small','large','medium', 'torn', 'cleaned', 'degree']\n",
    "\n",
    "#measures = [lemmatizer.lemmatize(m) for m in measures]\n",
    "#some of these include data leakage words, like 'italian' - ok to remove after including bigrams\n",
    "data_leaks = ['iberic','greek', 'korean','italianstyle', 'french','thai', 'chinese', 'mexican','spanish','indian','italian']\n",
    "\n",
    "common_remove=['fine','ground','to','taste', 'and', 'or','back'  'can',  'into', 'cut', 'grated', 'leaf','package','finely','divided','a','piece','optional','inch','needed','more','drained','for','flake','dry','thinly','cubed','bunch','cube','slice','pod','beaten','seeded','uncooked','root','plain','heavy','halved','crumbled','sweet','with','hot','room','temperature','trimmed','allpurpose','deveined','bulk','seasoning','jar','food','if','bag','mix','in','each','roll','instant','double','such','frying','thawed','whipping','stock','rinsed','mild','sprig','freshly','toasted','link','boiling','cooked','unsalted','container',\n",
    "'cooking','thin','lengthwise','warm','softened','thick','quartered','juiced','pitted','chunk','melted','cold','coloring','puree','cored','stewed','floret','coarsely','the','blanched','zested','sweetened','powdered','garnish','dressing','soup','at','active','lean','chip','sour','long','ripe','skinned','fillet','from','stem','flaked','removed','stalk','unsweetened','cover','crust', 'extra', 'prepared', 'blend', 'of', 'ring',  'undrained', 'about', 'zest', ' ', '', 'spray', 'round', 'herb', 'seasoned', 'wedge', 'bitesize', 'broken', 'square', 'freshly', 'thickly', 'diagonally']\n",
    "#common_remove = [lemmatizer.lemmatize(c) for c in common_remove]\n",
    "#data_leaks = [lemmatizer.lemmatize(d) for d in data_leaks]\n",
    "# due to using bigrams not including \n",
    "\n",
    "useless_singles=['new','milliliter','milliliters','seeds','seed','breast', 'breasts','teaspoons','teaspoon','oil','black','white','red','yellow','seed','breast','confectioner','sundried','broth','bell','baby','juice','crumb','sauce','condensed','smoked','basmati','extravirgin','brown','clarified', 'filling', 'pine', 'virgin', 'romano', 'heart', 'shell', 'thigh', 'boneless','skinless','split', 'dark', 'wheat', 'light', 'green', 'vegetable', 'curry', 'orange', 'garam', 'sesame', 'strip', 'sea', 'canola', 'mustard','powder', 'ice', 'bay', 'roasted', 'loaf', 'roast', 'powder']\n",
    "#useless_singles = [lemmatizer.lemmatize(u) for u in useless_singles]"
   ]
  },
  {
   "cell_type": "markdown",
   "metadata": {},
   "source": [
    "## Preprocessing"
   ]
  },
  {
   "cell_type": "code",
   "execution_count": 9,
   "metadata": {},
   "outputs": [
    {
     "data": {
      "text/html": [
       "<div>\n",
       "<style scoped>\n",
       "    .dataframe tbody tr th:only-of-type {\n",
       "        vertical-align: middle;\n",
       "    }\n",
       "\n",
       "    .dataframe tbody tr th {\n",
       "        vertical-align: top;\n",
       "    }\n",
       "\n",
       "    .dataframe thead th {\n",
       "        text-align: right;\n",
       "    }\n",
       "</style>\n",
       "<table border=\"1\" class=\"dataframe\">\n",
       "  <thead>\n",
       "    <tr style=\"text-align: right;\">\n",
       "      <th></th>\n",
       "      <th>cuisine</th>\n",
       "      <th>ingredients</th>\n",
       "      <th>ingredients_list</th>\n",
       "    </tr>\n",
       "  </thead>\n",
       "  <tbody>\n",
       "    <tr>\n",
       "      <th>301</th>\n",
       "      <td>Chinese</td>\n",
       "      <td>['2 cloves garlic (minced)', '1 tablespoon fre...</td>\n",
       "      <td>['2 cloves garlic (minced)',  '1 tablespoon fr...</td>\n",
       "    </tr>\n",
       "  </tbody>\n",
       "</table>\n",
       "</div>"
      ],
      "text/plain": [
       "     cuisine                                        ingredients  \\\n",
       "301  Chinese  ['2 cloves garlic (minced)', '1 tablespoon fre...   \n",
       "\n",
       "                                      ingredients_list  \n",
       "301  ['2 cloves garlic (minced)',  '1 tablespoon fr...  "
      ]
     },
     "execution_count": 9,
     "metadata": {},
     "output_type": "execute_result"
    }
   ],
   "source": [
    "def remove_unwanted(i):\n",
    "    cl = i.strip('[]')\n",
    "    return cl\n",
    "\n",
    "new_df['ingredients_list'] = new_df['ingredients'].map(lambda s:remove_unwanted(s).split(\",\"))\n",
    "new_df.head(1)"
   ]
  },
  {
   "cell_type": "code",
   "execution_count": 10,
   "metadata": {},
   "outputs": [
    {
     "data": {
      "text/html": [
       "<div>\n",
       "<style scoped>\n",
       "    .dataframe tbody tr th:only-of-type {\n",
       "        vertical-align: middle;\n",
       "    }\n",
       "\n",
       "    .dataframe tbody tr th {\n",
       "        vertical-align: top;\n",
       "    }\n",
       "\n",
       "    .dataframe thead th {\n",
       "        text-align: right;\n",
       "    }\n",
       "</style>\n",
       "<table border=\"1\" class=\"dataframe\">\n",
       "  <thead>\n",
       "    <tr style=\"text-align: right;\">\n",
       "      <th></th>\n",
       "      <th>cuisine</th>\n",
       "      <th>ingredients</th>\n",
       "      <th>ingredients_list</th>\n",
       "      <th>cleanText</th>\n",
       "      <th>cleanTextList</th>\n",
       "    </tr>\n",
       "  </thead>\n",
       "  <tbody>\n",
       "    <tr>\n",
       "      <th>301</th>\n",
       "      <td>Chinese</td>\n",
       "      <td>['2 cloves garlic (minced)', '1 tablespoon fre...</td>\n",
       "      <td>['2 cloves garlic (minced)',  '1 tablespoon fr...</td>\n",
       "      <td>garlic ginger rice vinegar soy chicken srirach...</td>\n",
       "      <td>[garlic, ginger, rice, vinegar, soy, chicken, ...</td>\n",
       "    </tr>\n",
       "    <tr>\n",
       "      <th>302</th>\n",
       "      <td>Chinese</td>\n",
       "      <td>['6 chicken thighs (free range)', '2 tablespoo...</td>\n",
       "      <td>['6 chicken thighs (free range)',  '2 tablespo...</td>\n",
       "      <td>chicken olive ginger garlic honey soy</td>\n",
       "      <td>[chicken, olive, ginger, garlic, honey, soy]</td>\n",
       "    </tr>\n",
       "    <tr>\n",
       "      <th>303</th>\n",
       "      <td>Chinese</td>\n",
       "      <td>['2 tablespoons butter (divided)', '2 eggs (be...</td>\n",
       "      <td>['2 tablespoons butter (divided)',  '2 eggs (b...</td>\n",
       "      <td>butter egg onion carrot pea garlic ginger rice...</td>\n",
       "      <td>[butter, egg, onion, carrot, pea, garlic, ging...</td>\n",
       "    </tr>\n",
       "  </tbody>\n",
       "</table>\n",
       "</div>"
      ],
      "text/plain": [
       "     cuisine                                        ingredients  \\\n",
       "301  Chinese  ['2 cloves garlic (minced)', '1 tablespoon fre...   \n",
       "302  Chinese  ['6 chicken thighs (free range)', '2 tablespoo...   \n",
       "303  Chinese  ['2 tablespoons butter (divided)', '2 eggs (be...   \n",
       "\n",
       "                                      ingredients_list  \\\n",
       "301  ['2 cloves garlic (minced)',  '1 tablespoon fr...   \n",
       "302  ['6 chicken thighs (free range)',  '2 tablespo...   \n",
       "303  ['2 tablespoons butter (divided)',  '2 eggs (b...   \n",
       "\n",
       "                                             cleanText  \\\n",
       "301  garlic ginger rice vinegar soy chicken srirach...   \n",
       "302              chicken olive ginger garlic honey soy   \n",
       "303  butter egg onion carrot pea garlic ginger rice...   \n",
       "\n",
       "                                         cleanTextList  \n",
       "301  [garlic, ginger, rice, vinegar, soy, chicken, ...  \n",
       "302       [chicken, olive, ginger, garlic, honey, soy]  \n",
       "303  [butter, egg, onion, carrot, pea, garlic, ging...  "
      ]
     },
     "execution_count": 10,
     "metadata": {},
     "output_type": "execute_result"
    }
   ],
   "source": [
    "import nltk\n",
    "from nltk.tokenize import RegexpTokenizer\n",
    "from nltk.stem import WordNetLemmatizer\n",
    "from nltk.corpus import stopwords\n",
    "import re\n",
    "lemmatizer = WordNetLemmatizer()\n",
    "\n",
    "def preprocess(sentence):\n",
    "    sentence=str(sentence) #stringify\n",
    "    sentence = sentence.lower() #kleinschreibung\n",
    "    sentence = re.sub(\"\\(.*?\\)\",\"()\",sentence) #Alternativen entfernen - also alles zwischen ( )\n",
    "    sentence=sentence.replace('{html}',\"\") \n",
    "    cleanr = re.compile('<.*?>')\n",
    "    cleantext = re.sub(cleanr, '', sentence)\n",
    "    rem_url=re.sub(r'http\\S+', '',cleantext)\n",
    "    rem_num = re.sub('[0-9]+', '', rem_url)\n",
    "    tokenizer = RegexpTokenizer(r'\\w+')\n",
    "    tokens = tokenizer.tokenize(rem_num)\n",
    "    filtered_words = [w for w in tokens if len(w) > 2 if not w in stopwords.words('english')]\n",
    "    lemma_words=[lemmatizer.lemmatize(w) for w in filtered_words] \n",
    "    lemma_words = [w for w in lemma_words if not w in measures]\n",
    "    lemma_words = [w for w in lemma_words if not w in data_leaks]\n",
    "    lemma_words = [w for w in lemma_words if not w in common_remove]\n",
    "    lemma_words = [w for w in lemma_words if not w in useless_singles]\n",
    "    \n",
    "    return \" \".join(lemma_words)\n",
    "\n",
    "\n",
    "# Apply to the DF series\n",
    "new_df['cleanText']=new_df['ingredients'].map(lambda s:preprocess(s)) \n",
    "new_df['cleanTextList']=new_df['ingredients'].map(lambda s:preprocess(s).split()) \n",
    "new_df.head(3)"
   ]
  },
  {
   "cell_type": "markdown",
   "metadata": {},
   "source": [
    "### Generate Bigrams"
   ]
  },
  {
   "cell_type": "code",
   "execution_count": 11,
   "metadata": {},
   "outputs": [
    {
     "data": {
      "text/html": [
       "<div>\n",
       "<style scoped>\n",
       "    .dataframe tbody tr th:only-of-type {\n",
       "        vertical-align: middle;\n",
       "    }\n",
       "\n",
       "    .dataframe tbody tr th {\n",
       "        vertical-align: top;\n",
       "    }\n",
       "\n",
       "    .dataframe thead th {\n",
       "        text-align: right;\n",
       "    }\n",
       "</style>\n",
       "<table border=\"1\" class=\"dataframe\">\n",
       "  <thead>\n",
       "    <tr style=\"text-align: right;\">\n",
       "      <th></th>\n",
       "      <th>cuisine</th>\n",
       "      <th>ingredients</th>\n",
       "      <th>ingredients_list</th>\n",
       "      <th>cleanText</th>\n",
       "      <th>cleanTextList</th>\n",
       "      <th>bigrams</th>\n",
       "    </tr>\n",
       "  </thead>\n",
       "  <tbody>\n",
       "    <tr>\n",
       "      <th>301</th>\n",
       "      <td>Chinese</td>\n",
       "      <td>['2 cloves garlic (minced)', '1 tablespoon fre...</td>\n",
       "      <td>['2 cloves garlic (minced)',  '1 tablespoon fr...</td>\n",
       "      <td>garlic ginger rice vinegar soy chicken srirach...</td>\n",
       "      <td>[garlic, ginger, rice, vinegar, soy, chicken, ...</td>\n",
       "      <td>[(garlic, ginger), (ginger, rice), (rice, vine...</td>\n",
       "    </tr>\n",
       "    <tr>\n",
       "      <th>302</th>\n",
       "      <td>Chinese</td>\n",
       "      <td>['6 chicken thighs (free range)', '2 tablespoo...</td>\n",
       "      <td>['6 chicken thighs (free range)',  '2 tablespo...</td>\n",
       "      <td>chicken olive ginger garlic honey soy</td>\n",
       "      <td>[chicken, olive, ginger, garlic, honey, soy]</td>\n",
       "      <td>[(chicken, olive), (olive, ginger), (ginger, g...</td>\n",
       "    </tr>\n",
       "    <tr>\n",
       "      <th>303</th>\n",
       "      <td>Chinese</td>\n",
       "      <td>['2 tablespoons butter (divided)', '2 eggs (be...</td>\n",
       "      <td>['2 tablespoons butter (divided)',  '2 eggs (b...</td>\n",
       "      <td>butter egg onion carrot pea garlic ginger rice...</td>\n",
       "      <td>[butter, egg, onion, carrot, pea, garlic, ging...</td>\n",
       "      <td>[(butter, egg), (egg, onion), (onion, carrot),...</td>\n",
       "    </tr>\n",
       "    <tr>\n",
       "      <th>304</th>\n",
       "      <td>Chinese</td>\n",
       "      <td>['1 pound lean beef (cut into thin strips)', '...</td>\n",
       "      <td>['1 pound lean beef (cut into thin strips)',  ...</td>\n",
       "      <td>beef soy sherry onion garlic ginger broccoli b...</td>\n",
       "      <td>[beef, soy, sherry, onion, garlic, ginger, bro...</td>\n",
       "      <td>[(beef, soy), (soy, sherry), (sherry, onion), ...</td>\n",
       "    </tr>\n",
       "    <tr>\n",
       "      <th>305</th>\n",
       "      <td>Chinese</td>\n",
       "      <td>['2 cloves garlic (minced)', '1 tablespoon fre...</td>\n",
       "      <td>['2 cloves garlic (minced)',  '1 tablespoon fr...</td>\n",
       "      <td>garlic ginger rice vinegar soy chicken srirach...</td>\n",
       "      <td>[garlic, ginger, rice, vinegar, soy, chicken, ...</td>\n",
       "      <td>[(garlic, ginger), (ginger, rice), (rice, vine...</td>\n",
       "    </tr>\n",
       "  </tbody>\n",
       "</table>\n",
       "</div>"
      ],
      "text/plain": [
       "     cuisine                                        ingredients  \\\n",
       "301  Chinese  ['2 cloves garlic (minced)', '1 tablespoon fre...   \n",
       "302  Chinese  ['6 chicken thighs (free range)', '2 tablespoo...   \n",
       "303  Chinese  ['2 tablespoons butter (divided)', '2 eggs (be...   \n",
       "304  Chinese  ['1 pound lean beef (cut into thin strips)', '...   \n",
       "305  Chinese  ['2 cloves garlic (minced)', '1 tablespoon fre...   \n",
       "\n",
       "                                      ingredients_list  \\\n",
       "301  ['2 cloves garlic (minced)',  '1 tablespoon fr...   \n",
       "302  ['6 chicken thighs (free range)',  '2 tablespo...   \n",
       "303  ['2 tablespoons butter (divided)',  '2 eggs (b...   \n",
       "304  ['1 pound lean beef (cut into thin strips)',  ...   \n",
       "305  ['2 cloves garlic (minced)',  '1 tablespoon fr...   \n",
       "\n",
       "                                             cleanText  \\\n",
       "301  garlic ginger rice vinegar soy chicken srirach...   \n",
       "302              chicken olive ginger garlic honey soy   \n",
       "303  butter egg onion carrot pea garlic ginger rice...   \n",
       "304  beef soy sherry onion garlic ginger broccoli b...   \n",
       "305  garlic ginger rice vinegar soy chicken srirach...   \n",
       "\n",
       "                                         cleanTextList  \\\n",
       "301  [garlic, ginger, rice, vinegar, soy, chicken, ...   \n",
       "302       [chicken, olive, ginger, garlic, honey, soy]   \n",
       "303  [butter, egg, onion, carrot, pea, garlic, ging...   \n",
       "304  [beef, soy, sherry, onion, garlic, ginger, bro...   \n",
       "305  [garlic, ginger, rice, vinegar, soy, chicken, ...   \n",
       "\n",
       "                                               bigrams  \n",
       "301  [(garlic, ginger), (ginger, rice), (rice, vine...  \n",
       "302  [(chicken, olive), (olive, ginger), (ginger, g...  \n",
       "303  [(butter, egg), (egg, onion), (onion, carrot),...  \n",
       "304  [(beef, soy), (soy, sherry), (sherry, onion), ...  \n",
       "305  [(garlic, ginger), (ginger, rice), (rice, vine...  "
      ]
     },
     "execution_count": 11,
     "metadata": {},
     "output_type": "execute_result"
    }
   ],
   "source": [
    "new_df['bigrams'] = new_df['cleanText'].apply(lambda row: list(nltk.bigrams(row.split(' '))))\n",
    "new_df.head()"
   ]
  },
  {
   "cell_type": "markdown",
   "metadata": {},
   "source": [
    "# Task 1b/a"
   ]
  },
  {
   "cell_type": "markdown",
   "metadata": {},
   "source": [
    "## Task 1b/a Absolute number of ingredients"
   ]
  },
  {
   "cell_type": "code",
   "execution_count": 12,
   "metadata": {},
   "outputs": [
    {
     "data": {
      "text/html": [
       "<div>\n",
       "<style scoped>\n",
       "    .dataframe tbody tr th:only-of-type {\n",
       "        vertical-align: middle;\n",
       "    }\n",
       "\n",
       "    .dataframe tbody tr th {\n",
       "        vertical-align: top;\n",
       "    }\n",
       "\n",
       "    .dataframe thead th {\n",
       "        text-align: right;\n",
       "    }\n",
       "</style>\n",
       "<table border=\"1\" class=\"dataframe\">\n",
       "  <thead>\n",
       "    <tr style=\"text-align: right;\">\n",
       "      <th></th>\n",
       "      <th>cuisine</th>\n",
       "      <th>ingredients</th>\n",
       "      <th>ingredients_list</th>\n",
       "      <th>cleanText</th>\n",
       "      <th>cleanTextList</th>\n",
       "      <th>bigrams</th>\n",
       "      <th>number of ingredients</th>\n",
       "      <th>CLEAN number of ingredients</th>\n",
       "    </tr>\n",
       "  </thead>\n",
       "  <tbody>\n",
       "    <tr>\n",
       "      <th>303</th>\n",
       "      <td>Chinese</td>\n",
       "      <td>['2 tablespoons butter (divided)', '2 eggs (be...</td>\n",
       "      <td>['2 tablespoons butter (divided)',  '2 eggs (b...</td>\n",
       "      <td>butter egg onion carrot pea garlic ginger rice...</td>\n",
       "      <td>[butter, egg, onion, carrot, pea, garlic, ging...</td>\n",
       "      <td>[(butter, egg), (egg, onion), (onion, carrot),...</td>\n",
       "      <td>11</td>\n",
       "      <td>11</td>\n",
       "    </tr>\n",
       "    <tr>\n",
       "      <th>359</th>\n",
       "      <td>Chinese</td>\n",
       "      <td>['2 tablespoons butter (divided)', '2 eggs (be...</td>\n",
       "      <td>['2 tablespoons butter (divided)',  '2 eggs (b...</td>\n",
       "      <td>butter egg onion carrot pea garlic ginger rice...</td>\n",
       "      <td>[butter, egg, onion, carrot, pea, garlic, ging...</td>\n",
       "      <td>[(butter, egg), (egg, onion), (onion, carrot),...</td>\n",
       "      <td>11</td>\n",
       "      <td>11</td>\n",
       "    </tr>\n",
       "    <tr>\n",
       "      <th>305</th>\n",
       "      <td>Chinese</td>\n",
       "      <td>['2 cloves garlic (minced)', '1 tablespoon fre...</td>\n",
       "      <td>['2 cloves garlic (minced)',  '1 tablespoon fr...</td>\n",
       "      <td>garlic ginger rice vinegar soy chicken srirach...</td>\n",
       "      <td>[garlic, ginger, rice, vinegar, soy, chicken, ...</td>\n",
       "      <td>[(garlic, ginger), (ginger, rice), (rice, vine...</td>\n",
       "      <td>9</td>\n",
       "      <td>9</td>\n",
       "    </tr>\n",
       "    <tr>\n",
       "      <th>356</th>\n",
       "      <td>Chinese</td>\n",
       "      <td>['3 chicken breasts boneless skinless', '1 egg...</td>\n",
       "      <td>['3 chicken breasts boneless skinless',  '1 eg...</td>\n",
       "      <td>chicken egg kosher salt pepper cornstarch flou...</td>\n",
       "      <td>[chicken, egg, kosher, salt, pepper, cornstarc...</td>\n",
       "      <td>[(chicken, egg), (egg, kosher), (kosher, salt)...</td>\n",
       "      <td>10</td>\n",
       "      <td>10</td>\n",
       "    </tr>\n",
       "    <tr>\n",
       "      <th>301</th>\n",
       "      <td>Chinese</td>\n",
       "      <td>['2 cloves garlic (minced)', '1 tablespoon fre...</td>\n",
       "      <td>['2 cloves garlic (minced)',  '1 tablespoon fr...</td>\n",
       "      <td>garlic ginger rice vinegar soy chicken srirach...</td>\n",
       "      <td>[garlic, ginger, rice, vinegar, soy, chicken, ...</td>\n",
       "      <td>[(garlic, ginger), (ginger, rice), (rice, vine...</td>\n",
       "      <td>9</td>\n",
       "      <td>10</td>\n",
       "    </tr>\n",
       "  </tbody>\n",
       "</table>\n",
       "</div>"
      ],
      "text/plain": [
       "     cuisine                                        ingredients  \\\n",
       "303  Chinese  ['2 tablespoons butter (divided)', '2 eggs (be...   \n",
       "359  Chinese  ['2 tablespoons butter (divided)', '2 eggs (be...   \n",
       "305  Chinese  ['2 cloves garlic (minced)', '1 tablespoon fre...   \n",
       "356  Chinese  ['3 chicken breasts boneless skinless', '1 egg...   \n",
       "301  Chinese  ['2 cloves garlic (minced)', '1 tablespoon fre...   \n",
       "\n",
       "                                      ingredients_list  \\\n",
       "303  ['2 tablespoons butter (divided)',  '2 eggs (b...   \n",
       "359  ['2 tablespoons butter (divided)',  '2 eggs (b...   \n",
       "305  ['2 cloves garlic (minced)',  '1 tablespoon fr...   \n",
       "356  ['3 chicken breasts boneless skinless',  '1 eg...   \n",
       "301  ['2 cloves garlic (minced)',  '1 tablespoon fr...   \n",
       "\n",
       "                                             cleanText  \\\n",
       "303  butter egg onion carrot pea garlic ginger rice...   \n",
       "359  butter egg onion carrot pea garlic ginger rice...   \n",
       "305  garlic ginger rice vinegar soy chicken srirach...   \n",
       "356  chicken egg kosher salt pepper cornstarch flou...   \n",
       "301  garlic ginger rice vinegar soy chicken srirach...   \n",
       "\n",
       "                                         cleanTextList  \\\n",
       "303  [butter, egg, onion, carrot, pea, garlic, ging...   \n",
       "359  [butter, egg, onion, carrot, pea, garlic, ging...   \n",
       "305  [garlic, ginger, rice, vinegar, soy, chicken, ...   \n",
       "356  [chicken, egg, kosher, salt, pepper, cornstarc...   \n",
       "301  [garlic, ginger, rice, vinegar, soy, chicken, ...   \n",
       "\n",
       "                                               bigrams  number of ingredients  \\\n",
       "303  [(butter, egg), (egg, onion), (onion, carrot),...                     11   \n",
       "359  [(butter, egg), (egg, onion), (onion, carrot),...                     11   \n",
       "305  [(garlic, ginger), (ginger, rice), (rice, vine...                      9   \n",
       "356  [(chicken, egg), (egg, kosher), (kosher, salt)...                     10   \n",
       "301  [(garlic, ginger), (ginger, rice), (rice, vine...                      9   \n",
       "\n",
       "     CLEAN number of ingredients  \n",
       "303                           11  \n",
       "359                           11  \n",
       "305                            9  \n",
       "356                           10  \n",
       "301                           10  "
      ]
     },
     "execution_count": 12,
     "metadata": {},
     "output_type": "execute_result"
    }
   ],
   "source": [
    "def count_ingredients (i):\n",
    "    num = len(i)\n",
    "    return num\n",
    "\n",
    "new_df['number of ingredients'] = new_df['ingredients_list'].apply(count_ingredients)\n",
    "new_df['CLEAN number of ingredients'] = new_df['cleanTextList'].apply(count_ingredients)\n",
    "new_df.sample(5)"
   ]
  },
  {
   "cell_type": "code",
   "execution_count": 13,
   "metadata": {},
   "outputs": [],
   "source": [
    "chinese = new_df.loc[(df['cuisine'] == 'Chinese')]\n",
    "iberic = new_df.loc[(df['cuisine'] == 'Iberic')]"
   ]
  },
  {
   "cell_type": "markdown",
   "metadata": {},
   "source": [
    "## Result:"
   ]
  },
  {
   "cell_type": "markdown",
   "metadata": {},
   "source": [
    "### Chinese & Iberic"
   ]
  },
  {
   "cell_type": "code",
   "execution_count": 14,
   "metadata": {},
   "outputs": [
    {
     "data": {
      "text/plain": [
       "1288"
      ]
     },
     "execution_count": 14,
     "metadata": {},
     "output_type": "execute_result"
    }
   ],
   "source": [
    "Total = new_df['number of ingredients'].sum()\n",
    "Total"
   ]
  },
  {
   "cell_type": "markdown",
   "metadata": {},
   "source": [
    "### Only chinese"
   ]
  },
  {
   "cell_type": "code",
   "execution_count": 15,
   "metadata": {},
   "outputs": [
    {
     "data": {
      "text/plain": [
       "803"
      ]
     },
     "execution_count": 15,
     "metadata": {},
     "output_type": "execute_result"
    }
   ],
   "source": [
    "chineseTotal = chinese['number of ingredients'].sum()\n",
    "chineseTotal"
   ]
  },
  {
   "cell_type": "markdown",
   "metadata": {},
   "source": [
    "### Only iberic"
   ]
  },
  {
   "cell_type": "code",
   "execution_count": 16,
   "metadata": {},
   "outputs": [
    {
     "data": {
      "text/plain": [
       "485"
      ]
     },
     "execution_count": 16,
     "metadata": {},
     "output_type": "execute_result"
    }
   ],
   "source": [
    "ibericTotal = iberic['number of ingredients'].sum()\n",
    "ibericTotal"
   ]
  },
  {
   "cell_type": "markdown",
   "metadata": {},
   "source": [
    "## Task 1b/b Relative number of different ingredients"
   ]
  },
  {
   "cell_type": "code",
   "execution_count": 17,
   "metadata": {},
   "outputs": [
    {
     "name": "stdout",
     "output_type": "stream",
     "text": [
      "Ingredients List:\n",
      "[\"'2 cloves garlic (minced)'\", \" '1 tablespoon fresh ginger (chopped fine)'\", \" '1 teaspoon sesame oil'\", \" '2 tablespoons rice vinegar'\", \" '1/3 cup soy sauce'\", \" '1/2 cup chicken broth (vegetable broth or even water)'\", \" '1 tablespoon Sriracha'\", \" '2 tablespoons sugar'\", \" '1 1/2 tablespoons corn starch'\"]\n",
      "Anzahl:\n",
      "9\n",
      "\n",
      "After cleanup:\n",
      "['garlic', 'ginger', 'rice', 'vinegar', 'soy', 'chicken', 'sriracha', 'sugar', 'corn', 'starch']\n",
      "Anzahl:\n",
      "10\n"
     ]
    }
   ],
   "source": [
    "print('Ingredients List:')\n",
    "print(new_df['ingredients_list'].iloc[0])\n",
    "print('Anzahl:')\n",
    "print(len(new_df['ingredients_list'].iloc[0]))\n",
    "print()\n",
    "print('After cleanup:')\n",
    "print(new_df['cleanTextList'].iloc[0])\n",
    "print('Anzahl:')\n",
    "print(len(new_df['cleanTextList'].iloc[0]))"
   ]
  },
  {
   "cell_type": "markdown",
   "metadata": {},
   "source": [
    "Man sieht das nach dem aufräumen die Zutatliste deutlich anders aussieht. Die Anhzahl der Zutaten selbst hat sich auch deutlich verändert. Das liegt an den Zutaten die aus zwei Wörtern bestehen. In unserem Beispiel \"corn starch\" wird nach dem cleanup zu \"corn\", \"starch\"."
   ]
  },
  {
   "cell_type": "markdown",
   "metadata": {},
   "source": [
    "Dennoch ist es sinnvoll mit den bereinigten Zutaten zu arbeiten, da die Bestimmung von unterschiedlichen Zutaten auf Basis der unbereinigten Zutaten zu Problem führt: \n",
    "\n",
    "- Die Anzahl der Zutaten, also z.B. 2 oder 1 würde als unterschiedliche Zutat beurteilt werden.\n",
    "- Die Zutaten selbst könnten durch unterschiedliche Einheiten nicht als gleich identifiziert werden (Cups vs tablespoons)"
   ]
  },
  {
   "cell_type": "markdown",
   "metadata": {},
   "source": [
    "## Result:"
   ]
  },
  {
   "cell_type": "code",
   "execution_count": 18,
   "metadata": {},
   "outputs": [
    {
     "name": "stdout",
     "output_type": "stream",
     "text": [
      "Absolut number Chinese & Iberic: 1272\n",
      "\n",
      "Absolut number Chinese: 784\n",
      "\n",
      "Absolut number Iberic: 488\n"
     ]
    }
   ],
   "source": [
    "TotalClean = new_df['CLEAN number of ingredients'].sum()\n",
    "TotalCleanChinese = chinese['CLEAN number of ingredients'].sum()\n",
    "TotalCleanIberic = iberic['CLEAN number of ingredients'].sum()\n",
    "print('Absolut number Chinese & Iberic: ' + str(TotalClean))\n",
    "print()\n",
    "print('Absolut number Chinese: ' + str(TotalCleanChinese))\n",
    "print()\n",
    "print('Absolut number Iberic: ' + str(TotalCleanIberic))"
   ]
  },
  {
   "cell_type": "code",
   "execution_count": 19,
   "metadata": {},
   "outputs": [
    {
     "name": "stdout",
     "output_type": "stream",
     "text": [
      "Different Ingredients Chinese & Iberic: 185\n",
      "\n",
      "Different Ingredients Chinese: 99\n",
      "\n",
      "Different Ingredients Iberic: 131\n"
     ]
    }
   ],
   "source": [
    "#Chinese & Iberic\n",
    "results = Counter()\n",
    "new_df['cleanTextList'].apply(results.update)\n",
    "\n",
    "#Chinese\n",
    "resultsChinese = Counter()\n",
    "chinese['cleanTextList'].apply(resultsChinese.update)\n",
    "\n",
    "#Iberic\n",
    "resultsIberic = Counter()\n",
    "iberic['cleanTextList'].apply(resultsIberic.update)\n",
    "\n",
    "print('Different Ingredients Chinese & Iberic: ' + str(len(results)))\n",
    "print()\n",
    "print('Different Ingredients Chinese: ' + str(len(resultsChinese)))\n",
    "print()\n",
    "print('Different Ingredients Iberic: ' + str(len(resultsIberic)))"
   ]
  },
  {
   "cell_type": "markdown",
   "metadata": {},
   "source": [
    "## Absolute number of different ingredients / Absolute number of ingredients"
   ]
  },
  {
   "cell_type": "markdown",
   "metadata": {},
   "source": [
    "#### Chinese & Iberic"
   ]
  },
  {
   "cell_type": "code",
   "execution_count": 20,
   "metadata": {},
   "outputs": [
    {
     "name": "stdout",
     "output_type": "stream",
     "text": [
      "6.875675675675676\n",
      "\n",
      "Counter({'garlic': 76, 'pepper': 65, 'salt': 62, 'soy': 60, 'onion': 57, 'chicken': 48, 'egg': 44, 'rice': 41, 'sugar': 41, 'ginger': 39, 'water': 37, 'olive': 36, 'vinegar': 25, 'cornstarch': 24, 'wine': 22, 'bean': 19, 'tomato': 19, 'carrot': 18, 'flour': 17, 'honey': 16, 'paprika': 15, 'cabbage': 13, 'lemon': 13, 'sprout': 12, 'broccoli': 11, 'sodium': 11, 'oregano': 11, 'scallion': 10, 'pork': 10, 'chili': 10, 'potato': 10, 'hoisin': 9, 'oyster': 9, 'peanut': 9, 'butter': 8, 'pea': 8, 'beef': 8, 'low': 8, 'granulated': 7, 'fish': 7, 'cilantro': 7, 'cumin': 7, 'sriracha': 6, 'sherry': 6, 'noodle': 6, 'sausage': 6, 'napa': 6, 'chorizo': 6, 'milk': 6, 'sirloin': 5, 'steak': 5, 'turmeric': 5, 'mushroom': 5, 'grain': 5, 'kosher': 5, 'parsley': 5, 'corn': 4, 'starch': 4, 'spring': 4, 'baking': 4, 'chow': 4, 'mein': 4, 'shaoxing': 4, 'handful': 4, 'purpose': 4, 'cinnamon': 4, 'rib': 3, 'spice': 3, 'apple': 3, 'cider': 3, 'shiitake': 3, 'wrapper': 3, 'chilli': 3, 'reduced': 3, 'shrimp': 3, 'shallot': 3, 'bread': 3, 'jalapeno': 3, 'cheese': 3, 'thyme': 3, 'back': 2, 'five': 2, 'stir': 2, 'fry': 2, 'jasmine': 2, 'bbq': 2, 'ketchup': 2, 'chive': 2, 'belly': 2, 'caster': 2, 'grass': 2, 'wing': 2, 'spinach': 2, 'almond': 2, 'substitute': 2, 'kale': 2, 'kidney': 2, 'salted': 2, 'celery': 2, 'linguica': 2, 'pinto': 2, 'kilogram': 2, 'basil': 2, 'yeast': 2, 'port': 2, 'salsa': 2, 'lime': 2, 'vanilla': 2, 'fat': 2, 'color': 1, 'butt': 1, 'half': 1, 'soda': 1, 'cornflour': 1, 'lite': 1, 'tofu': 1, 'turkey': 1, 'cashew': 1, 'chestnut': 1, 'romaine': 1, 'lettuce': 1, 'edamame': 1, 'xanthan': 1, 'gum': 1, 'flank': 1, 'andouille': 1, 'butternut': 1, 'squash': 1, 'chourico': 1, 'beer': 1, 'tabasco': 1, 'cake': 1, 'lard': 1, 'cream': 1, 'yolk': 1, 'bacon': 1, 'fire': 1, 'ricotta': 1, 'cheddar': 1, 'parmesan': 1, 'rustic': 1, 'kalamata': 1, 'radish': 1, 'clementine': 1, 'plum': 1, 'savoy': 1, 'leg': 1, 'cod': 1, 'cayenne': 1, 'scallop': 1, 'packet': 1, 'goya': 1, 'sazon': 1, 'annatto': 1, 'brandy': 1, 'simple': 1, 'syrup': 1, 'grenadine': 1, 'russet': 1, 'arugula': 1, 'sumac': 1, 'cucumber': 1, 'chocolate': 1, 'flax': 1, 'poppy': 1, 'coconut': 1, 'rosemary': 1, 'bouillon': 1, 'tenderloin': 1, 'coriander': 1, 'prawn': 1, 'salad': 1, 'balsamic': 1, 'chile': 1, 'evaporated': 1, 'extract': 1, 'full': 1, 'blade': 1, 'fennel': 1, 'saffron': 1, 'thread': 1, 'can': 1, 'cannellini': 1, 'free': 1, 'rum': 1})\n"
     ]
    }
   ],
   "source": [
    "a = TotalClean/len(results)\n",
    "print(a)\n",
    "print()\n",
    "print(results)"
   ]
  },
  {
   "cell_type": "markdown",
   "metadata": {},
   "source": [
    "### Only chinese"
   ]
  },
  {
   "cell_type": "code",
   "execution_count": 21,
   "metadata": {},
   "outputs": [
    {
     "name": "stdout",
     "output_type": "stream",
     "text": [
      "7.91919191919192\n",
      "\n",
      "Counter({'soy': 60, 'garlic': 47, 'ginger': 39, 'chicken': 37, 'onion': 34, 'egg': 32, 'rice': 31, 'pepper': 31, 'sugar': 28, 'water': 27, 'salt': 27, 'cornstarch': 24, 'vinegar': 23, 'carrot': 16, 'honey': 15, 'wine': 14, 'bean': 13, 'sprout': 12, 'flour': 12, 'cabbage': 12, 'broccoli': 11, 'hoisin': 9, 'oyster': 9, 'scallion': 9, 'peanut': 9, 'sodium': 8, 'pea': 7, 'beef': 7, 'pork': 7, 'sriracha': 6, 'noodle': 6, 'napa': 6, 'sherry': 5, 'sirloin': 5, 'steak': 5, 'low': 5, 'mushroom': 5, 'chili': 5, 'corn': 4, 'starch': 4, 'olive': 4, 'spring': 4, 'chow': 4, 'mein': 4, 'shaoxing': 4, 'turmeric': 4, 'granulated': 4, 'butter': 3, 'baking': 3, 'spice': 3, 'shiitake': 3, 'wrapper': 3, 'fish': 3, 'chilli': 3, 'lemon': 3, 'reduced': 3, 'back': 2, 'rib': 2, 'five': 2, 'stir': 2, 'fry': 2, 'jasmine': 2, 'bbq': 2, 'paprika': 2, 'sausage': 2, 'ketchup': 2, 'apple': 2, 'cider': 2, 'chive': 2, 'handful': 2, 'belly': 2, 'caster': 2, 'grass': 2, 'wing': 2, 'shrimp': 2, 'substitute': 2, 'color': 1, 'tomato': 1, 'butt': 1, 'half': 1, 'soda': 1, 'cornflour': 1, 'lite': 1, 'purpose': 1, 'spinach': 1, 'tofu': 1, 'cilantro': 1, 'grain': 1, 'turkey': 1, 'cashew': 1, 'chestnut': 1, 'romaine': 1, 'lettuce': 1, 'edamame': 1, 'almond': 1, 'xanthan': 1, 'gum': 1, 'flank': 1, 'kosher': 1})\n"
     ]
    }
   ],
   "source": [
    "b = TotalCleanChinese/len(resultsChinese)\n",
    "print(b)\n",
    "print()\n",
    "print(resultsChinese)"
   ]
  },
  {
   "cell_type": "markdown",
   "metadata": {},
   "source": [
    "### Only iberic"
   ]
  },
  {
   "cell_type": "code",
   "execution_count": 22,
   "metadata": {},
   "outputs": [
    {
     "name": "stdout",
     "output_type": "stream",
     "text": [
      "3.7251908396946565\n",
      "\n",
      "Counter({'salt': 35, 'pepper': 34, 'olive': 32, 'garlic': 29, 'onion': 23, 'tomato': 18, 'sugar': 13, 'paprika': 13, 'egg': 12, 'chicken': 11, 'oregano': 11, 'potato': 10, 'water': 10, 'lemon': 10, 'rice': 10, 'wine': 8, 'cumin': 7, 'bean': 6, 'chorizo': 6, 'milk': 6, 'cilantro': 6, 'butter': 5, 'flour': 5, 'parsley': 5, 'chili': 5, 'sausage': 4, 'cinnamon': 4, 'fish': 4, 'kosher': 4, 'grain': 4, 'granulated': 3, 'purpose': 3, 'shallot': 3, 'bread': 3, 'jalapeno': 3, 'cheese': 3, 'thyme': 3, 'pork': 3, 'low': 3, 'sodium': 3, 'carrot': 2, 'kale': 2, 'kidney': 2, 'salted': 2, 'celery': 2, 'linguica': 2, 'pinto': 2, 'kilogram': 2, 'basil': 2, 'yeast': 2, 'port': 2, 'handful': 2, 'vinegar': 2, 'salsa': 2, 'lime': 2, 'vanilla': 2, 'fat': 2, 'andouille': 1, 'butternut': 1, 'squash': 1, 'chourico': 1, 'beer': 1, 'tabasco': 1, 'baking': 1, 'cake': 1, 'lard': 1, 'cream': 1, 'yolk': 1, 'bacon': 1, 'fire': 1, 'ricotta': 1, 'cheddar': 1, 'parmesan': 1, 'rustic': 1, 'kalamata': 1, 'radish': 1, 'clementine': 1, 'plum': 1, 'savoy': 1, 'cabbage': 1, 'leg': 1, 'cod': 1, 'rib': 1, 'pea': 1, 'cayenne': 1, 'turmeric': 1, 'scallop': 1, 'shrimp': 1, 'packet': 1, 'goya': 1, 'sazon': 1, 'annatto': 1, 'brandy': 1, 'simple': 1, 'syrup': 1, 'grenadine': 1, 'russet': 1, 'scallion': 1, 'spinach': 1, 'arugula': 1, 'sumac': 1, 'cucumber': 1, 'apple': 1, 'cider': 1, 'almond': 1, 'chocolate': 1, 'flax': 1, 'poppy': 1, 'coconut': 1, 'rosemary': 1, 'bouillon': 1, 'tenderloin': 1, 'coriander': 1, 'prawn': 1, 'salad': 1, 'honey': 1, 'balsamic': 1, 'chile': 1, 'evaporated': 1, 'extract': 1, 'full': 1, 'blade': 1, 'fennel': 1, 'sherry': 1, 'saffron': 1, 'thread': 1, 'beef': 1, 'can': 1, 'cannellini': 1, 'free': 1, 'rum': 1})\n"
     ]
    }
   ],
   "source": [
    "i = TotalCleanIberic/len(resultsIberic)\n",
    "print(i)\n",
    "print()\n",
    "print(resultsIberic)"
   ]
  },
  {
   "cell_type": "markdown",
   "metadata": {},
   "source": [
    "## Task 1b/c Top 10 most frequent ingredients"
   ]
  },
  {
   "cell_type": "code",
   "execution_count": 23,
   "metadata": {},
   "outputs": [
    {
     "data": {
      "text/html": [
       "<div>\n",
       "<style scoped>\n",
       "    .dataframe tbody tr th:only-of-type {\n",
       "        vertical-align: middle;\n",
       "    }\n",
       "\n",
       "    .dataframe tbody tr th {\n",
       "        vertical-align: top;\n",
       "    }\n",
       "\n",
       "    .dataframe thead th {\n",
       "        text-align: right;\n",
       "    }\n",
       "</style>\n",
       "<table border=\"1\" class=\"dataframe\">\n",
       "  <thead>\n",
       "    <tr style=\"text-align: right;\">\n",
       "      <th></th>\n",
       "      <th>Ingredient</th>\n",
       "      <th>Count</th>\n",
       "      <th>IngredientChinese</th>\n",
       "      <th>CountChinese</th>\n",
       "      <th>IngredientIberic</th>\n",
       "      <th>CountIberic</th>\n",
       "    </tr>\n",
       "  </thead>\n",
       "  <tbody>\n",
       "    <tr>\n",
       "      <th>0</th>\n",
       "      <td>garlic</td>\n",
       "      <td>76</td>\n",
       "      <td>soy</td>\n",
       "      <td>60</td>\n",
       "      <td>salt</td>\n",
       "      <td>35</td>\n",
       "    </tr>\n",
       "    <tr>\n",
       "      <th>1</th>\n",
       "      <td>pepper</td>\n",
       "      <td>65</td>\n",
       "      <td>garlic</td>\n",
       "      <td>47</td>\n",
       "      <td>pepper</td>\n",
       "      <td>34</td>\n",
       "    </tr>\n",
       "    <tr>\n",
       "      <th>2</th>\n",
       "      <td>salt</td>\n",
       "      <td>62</td>\n",
       "      <td>ginger</td>\n",
       "      <td>39</td>\n",
       "      <td>olive</td>\n",
       "      <td>32</td>\n",
       "    </tr>\n",
       "    <tr>\n",
       "      <th>3</th>\n",
       "      <td>soy</td>\n",
       "      <td>60</td>\n",
       "      <td>chicken</td>\n",
       "      <td>37</td>\n",
       "      <td>garlic</td>\n",
       "      <td>29</td>\n",
       "    </tr>\n",
       "    <tr>\n",
       "      <th>4</th>\n",
       "      <td>onion</td>\n",
       "      <td>57</td>\n",
       "      <td>onion</td>\n",
       "      <td>34</td>\n",
       "      <td>onion</td>\n",
       "      <td>23</td>\n",
       "    </tr>\n",
       "    <tr>\n",
       "      <th>5</th>\n",
       "      <td>chicken</td>\n",
       "      <td>48</td>\n",
       "      <td>egg</td>\n",
       "      <td>32</td>\n",
       "      <td>tomato</td>\n",
       "      <td>18</td>\n",
       "    </tr>\n",
       "    <tr>\n",
       "      <th>6</th>\n",
       "      <td>egg</td>\n",
       "      <td>44</td>\n",
       "      <td>rice</td>\n",
       "      <td>31</td>\n",
       "      <td>sugar</td>\n",
       "      <td>13</td>\n",
       "    </tr>\n",
       "    <tr>\n",
       "      <th>7</th>\n",
       "      <td>rice</td>\n",
       "      <td>41</td>\n",
       "      <td>pepper</td>\n",
       "      <td>31</td>\n",
       "      <td>paprika</td>\n",
       "      <td>13</td>\n",
       "    </tr>\n",
       "    <tr>\n",
       "      <th>8</th>\n",
       "      <td>sugar</td>\n",
       "      <td>41</td>\n",
       "      <td>sugar</td>\n",
       "      <td>28</td>\n",
       "      <td>egg</td>\n",
       "      <td>12</td>\n",
       "    </tr>\n",
       "    <tr>\n",
       "      <th>9</th>\n",
       "      <td>ginger</td>\n",
       "      <td>39</td>\n",
       "      <td>water</td>\n",
       "      <td>27</td>\n",
       "      <td>chicken</td>\n",
       "      <td>11</td>\n",
       "    </tr>\n",
       "  </tbody>\n",
       "</table>\n",
       "</div>"
      ],
      "text/plain": [
       "  Ingredient  Count IngredientChinese  CountChinese IngredientIberic  \\\n",
       "0     garlic     76               soy            60             salt   \n",
       "1     pepper     65            garlic            47           pepper   \n",
       "2       salt     62            ginger            39            olive   \n",
       "3        soy     60           chicken            37           garlic   \n",
       "4      onion     57             onion            34            onion   \n",
       "5    chicken     48               egg            32           tomato   \n",
       "6        egg     44              rice            31            sugar   \n",
       "7       rice     41            pepper            31          paprika   \n",
       "8      sugar     41             sugar            28              egg   \n",
       "9     ginger     39             water            27          chicken   \n",
       "\n",
       "   CountIberic  \n",
       "0           35  \n",
       "1           34  \n",
       "2           32  \n",
       "3           29  \n",
       "4           23  \n",
       "5           18  \n",
       "6           13  \n",
       "7           13  \n",
       "8           12  \n",
       "9           11  "
      ]
     },
     "execution_count": 23,
     "metadata": {},
     "output_type": "execute_result"
    }
   ],
   "source": [
    "from sklearn.feature_extraction.text import CountVectorizer\n",
    "\n",
    "import matplotlib.pyplot as plt \n",
    "import pandas as pd\n",
    "\n",
    "def get_top_n_words(corpus, n=None):\n",
    "    vec = CountVectorizer().fit(corpus)\n",
    "    bag_of_words = vec.transform(corpus)\n",
    "    sum_words = bag_of_words.sum(axis=0) \n",
    "    words_freq = [(word, sum_words[0, idx]) for word, idx in vec.vocabulary_.items()]\n",
    "    words_freq =sorted(words_freq, key = lambda x: x[1], reverse=True)\n",
    "    return words_freq[:n]\n",
    "\n",
    "\n",
    "common_words = get_top_n_words(new_df['cleanText'], 10)\n",
    "chinese_common_words = get_top_n_words(chinese['cleanText'], 10)\n",
    "iberic_common_words = get_top_n_words(iberic['cleanText'], 10)\n",
    "\n",
    "df1 = pd.DataFrame(common_words, columns = ['Ingredient' , 'Count'])\n",
    "df1c = pd.DataFrame(chinese_common_words, columns = ['IngredientChinese' , 'CountChinese'])\n",
    "df1i = pd.DataFrame(iberic_common_words, columns = ['IngredientIberic' , 'CountIberic'])\n",
    "\n",
    "most_frequent_single = pd.concat([df1, df1c, df1i ], axis=1)\n",
    "\n",
    "\n",
    "most_frequent_single.head(10)"
   ]
  },
  {
   "cell_type": "code",
   "execution_count": 24,
   "metadata": {},
   "outputs": [
    {
     "data": {
      "image/png": "[encoded data removed]",
      "text/plain": [
       "<Figure size 1440x576 with 1 Axes>"
      ]
     },
     "metadata": {
      "needs_background": "light"
     },
     "output_type": "display_data"
    }
   ],
   "source": [
    "df1.plot.bar(x='Ingredient',\n",
    "         y='Count', \n",
    "         color=['coral'],   \n",
    "         fontsize=20, \n",
    "         figsize=(20, 8),\n",
    "         xlabel = 'xlabel',\n",
    "         edgecolor = \"grey\",\n",
    "         grid= True)\n",
    "\n",
    "plt.title('Chinese & Iberic', fontsize=60)\n",
    "plt.xlabel('Wörter', fontsize=40)\n",
    "plt.ylabel('Anzahl', fontsize=40)\n",
    "plt.savefig('Top10 Single Chinese and Iberic.png', bbox_inches = 'tight')\n",
    "plt.show()"
   ]
  },
  {
   "cell_type": "code",
   "execution_count": 25,
   "metadata": {},
   "outputs": [
    {
     "data": {
      "image/png": "[encoded data removed]",
      "text/plain": [
       "<Figure size 1440x576 with 1 Axes>"
      ]
     },
     "metadata": {
      "needs_background": "light"
     },
     "output_type": "display_data"
    }
   ],
   "source": [
    "df1c.plot.bar(x='IngredientChinese',\n",
    "         y='CountChinese', \n",
    "         color=['red'],   \n",
    "         fontsize=20, \n",
    "         figsize=(20, 8),\n",
    "         edgecolor = \"grey\", \n",
    "         grid= True)\n",
    "plt.title('Chinese', fontsize=60)\n",
    "plt.xlabel('Wörter', fontsize=40)\n",
    "plt.ylabel('Anzahl', fontsize=40)\n",
    "plt.savefig('Top10 Single Chinese.png', bbox_inches = 'tight')\n",
    "plt.show()"
   ]
  },
  {
   "cell_type": "code",
   "execution_count": null,
   "metadata": {},
   "outputs": [],
   "source": [
    "df1i.plot.bar(x='IngredientIberic',\n",
    "         y='CountIberic', \n",
    "         color=['skyblue'],  \n",
    "         fontsize=20, \n",
    "         figsize=(20, 8),\n",
    "         edgecolor = \"grey\", \n",
    "         grid= True)\n",
    "plt.title('Iberic', fontsize=60)\n",
    "plt.xlabel('Wörter', fontsize=40)\n",
    "plt.ylabel('Anzahl', fontsize=40)\n",
    "plt.savefig('Top10 Single Iberic.png', bbox_inches = 'tight')\n",
    "plt.show()"
   ]
  },
  {
   "cell_type": "markdown",
   "metadata": {},
   "source": [
    "## Task 1b/c Top 10 most frequent bigrams"
   ]
  },
  {
   "cell_type": "code",
   "execution_count": null,
   "metadata": {},
   "outputs": [],
   "source": [
    "from sklearn.feature_extraction.text import CountVectorizer\n",
    "\n",
    "def get_top_n_bigram(corpus, n=None):\n",
    "    vec = CountVectorizer(ngram_range=(2, 2)).fit(corpus)\n",
    "    bag_of_words = vec.transform(corpus)\n",
    "    sum_words = bag_of_words.sum(axis=0) \n",
    "    words_freq = [(word, sum_words[0, idx]) for word, idx in vec.vocabulary_.items()]\n",
    "    words_freq =sorted(words_freq, key = lambda x: x[1], reverse=True)\n",
    "    return words_freq[:n]\n",
    "\n",
    "\n",
    "common_words = get_top_n_bigram(new_df['cleanText'], 10)\n",
    "chinese_common_words = get_top_n_bigram(chinese['cleanText'], 10)\n",
    "iberic_common_words = get_top_n_bigram(iberic['cleanText'], 10)\n",
    "\n",
    "df2 = pd.DataFrame(common_words, columns = ['Ingredient' , 'Count'])\n",
    "df2c = pd.DataFrame(chinese_common_words, columns = ['IngredientChinese' , 'CountChinese'])\n",
    "df2i = pd.DataFrame(iberic_common_words, columns = ['IngredientIberic' , 'CountIberic'])\n",
    "\n",
    "most_frequent_bigram = pd.concat([df2, df2c, df2i ], axis=1)\n",
    "\n",
    "\n",
    "most_frequent_bigram.head(10)"
   ]
  },
  {
   "cell_type": "code",
   "execution_count": null,
   "metadata": {},
   "outputs": [],
   "source": [
    "df2.plot.bar(x='Ingredient',\n",
    "         y='Count', \n",
    "         color=['coral'],   \n",
    "         fontsize=20, \n",
    "         figsize=(20, 8),\n",
    "         xlabel = 'xlabel',\n",
    "         edgecolor = \"grey\",\n",
    "         grid= True)\n",
    "\n",
    "plt.title('Chinese & Iberic', fontsize=60)\n",
    "plt.xlabel('Wörter', fontsize=40)\n",
    "plt.ylabel('Anzahl', fontsize=40)\n",
    "plt.savefig('Top10 bigram Chinese and Iberic.png', bbox_inches = 'tight')\n",
    "plt.show()"
   ]
  },
  {
   "cell_type": "code",
   "execution_count": null,
   "metadata": {},
   "outputs": [],
   "source": [
    "df2c.plot.bar(x='IngredientChinese',\n",
    "         y='CountChinese', \n",
    "         color=['red'],   \n",
    "         fontsize=20, \n",
    "         figsize=(20, 8),\n",
    "         edgecolor = \"grey\", \n",
    "         grid= True)\n",
    "plt.title('Chinese', fontsize=60)\n",
    "plt.xlabel('Wörter', fontsize=40)\n",
    "plt.ylabel('Anzahl', fontsize=40)\n",
    "plt.savefig('Top10 bigram Chinese.png', bbox_inches = 'tight')\n",
    "plt.show()"
   ]
  },
  {
   "cell_type": "code",
   "execution_count": null,
   "metadata": {},
   "outputs": [],
   "source": [
    "df2i.plot.bar(x='IngredientIberic',\n",
    "         y='CountIberic', \n",
    "         color=['skyblue'],  \n",
    "         fontsize=20, \n",
    "         figsize=(20, 8),\n",
    "         edgecolor = \"grey\", \n",
    "         grid= True)\n",
    "plt.title('Iberic', fontsize=60)\n",
    "plt.xlabel('Wörter', fontsize=40)\n",
    "plt.ylabel('Anzahl', fontsize=40)\n",
    "plt.savefig('Top10 bigram Iberic.png', bbox_inches = 'tight')\n",
    "plt.show()"
   ]
  },
  {
   "cell_type": "markdown",
   "metadata": {},
   "source": [
    "## Task 1b/d Top 10 most frequent ingredient combinations single"
   ]
  },
  {
   "cell_type": "code",
   "execution_count": null,
   "metadata": {},
   "outputs": [],
   "source": [
    "import itertools\n",
    "\n",
    "\n",
    "def generate_combinations (a_list):\n",
    "    combinations =[]\n",
    "    \n",
    "    for i in a_list:\n",
    "        for pair in itertools.combinations(i,2):\n",
    "            combinations.append(pair)\n",
    "            \n",
    "    return Counter(elem[0:2] for elem in combinations)"
   ]
  },
  {
   "cell_type": "code",
   "execution_count": null,
   "metadata": {},
   "outputs": [],
   "source": [
    "ac = generate_combinations(new_df['cleanTextList'])\n",
    "cc = generate_combinations(chinese['cleanTextList'])\n",
    "ic = generate_combinations(iberic['cleanTextList'])\n",
    "\n",
    "df3 = pd.DataFrame.from_records(ac.most_common(10), columns=['Combination','Count'])\n",
    "df3c = pd.DataFrame.from_records(cc.most_common(10), columns=['CombinationChinese','CountChinese'])\n",
    "df3i = pd.DataFrame.from_records(ic.most_common(10), columns=['CombinationIberic','CountIberic'])\n",
    "\n",
    "most_frequent_single_combination = pd.concat([df3, df3c, df3i ], axis=1)\n",
    "\n",
    "most_frequent_single_combination.head(10)"
   ]
  },
  {
   "cell_type": "code",
   "execution_count": null,
   "metadata": {},
   "outputs": [],
   "source": [
    "df3.plot.bar(x='Combination',\n",
    "         y='Count', \n",
    "         color=['coral'],   \n",
    "         fontsize=20, \n",
    "         figsize=(20, 8),\n",
    "         xlabel = 'xlabel',\n",
    "         edgecolor = \"grey\",\n",
    "         grid= True)\n",
    "\n",
    "plt.title('Chinese & Iberic', fontsize=60)\n",
    "plt.xlabel('Kombination', fontsize=40)\n",
    "plt.ylabel('Anzahl', fontsize=40)\n",
    "plt.savefig('Top10 Combination single Chinese and Iberic.png', bbox_inches = 'tight')\n",
    "plt.show()"
   ]
  },
  {
   "cell_type": "code",
   "execution_count": null,
   "metadata": {},
   "outputs": [],
   "source": [
    "df3c.plot.bar(x='CombinationChinese',\n",
    "         y='CountChinese', \n",
    "         color=['red'],   \n",
    "         fontsize=20, \n",
    "         figsize=(20, 8),\n",
    "         edgecolor = \"grey\", \n",
    "         grid= True)\n",
    "plt.title('Chinese', fontsize=60)\n",
    "plt.xlabel('Kombination', fontsize=40)\n",
    "plt.ylabel('Anzahl', fontsize=40)\n",
    "plt.savefig('Top10 Combination single Chinese.png', bbox_inches = 'tight')\n",
    "plt.show()"
   ]
  },
  {
   "cell_type": "code",
   "execution_count": null,
   "metadata": {},
   "outputs": [],
   "source": [
    "df3i.plot.bar(x='CombinationIberic',\n",
    "         y='CountIberic', \n",
    "         color=['skyblue'],  \n",
    "         fontsize=20, \n",
    "         figsize=(20, 8),\n",
    "         edgecolor = \"grey\", \n",
    "         grid= True)\n",
    "plt.title('Iberic', fontsize=60)\n",
    "plt.xlabel('Kombination', fontsize=40)\n",
    "plt.ylabel('Anzahl', fontsize=40)\n",
    "plt.savefig('Top10 Combination single Iberic.png', bbox_inches = 'tight')\n",
    "plt.show()"
   ]
  },
  {
   "cell_type": "markdown",
   "metadata": {},
   "source": [
    "## Task 1b/d Top 10 most frequent ingredient combinations bigrams"
   ]
  },
  {
   "cell_type": "code",
   "execution_count": null,
   "metadata": {},
   "outputs": [],
   "source": [
    "abc = generate_combinations(new_df['bigrams'])\n",
    "cbc = generate_combinations(chinese['bigrams'])\n",
    "ibc = generate_combinations(iberic['bigrams'])\n",
    "\n",
    "df4 = pd.DataFrame.from_records(abc.most_common(10), columns=['Combination','Count'])\n",
    "df4c = pd.DataFrame.from_records(cbc.most_common(10), columns=['CombinationChinese','CountChinese'])\n",
    "df4i = pd.DataFrame.from_records(ibc.most_common(10), columns=['CombinationIberic','CountIberic'])\n",
    "\n",
    "most_frequent_single_combination = pd.concat([df4, df4c, df4i ], axis=1)\n",
    "\n",
    "most_frequent_single_combination.head(10)"
   ]
  },
  {
   "cell_type": "code",
   "execution_count": null,
   "metadata": {},
   "outputs": [],
   "source": [
    "df4.plot.bar(x='Combination',\n",
    "         y='Count', \n",
    "         color=['coral'],   \n",
    "         fontsize=20, \n",
    "         figsize=(20, 8),\n",
    "         xlabel = 'xlabel',\n",
    "         edgecolor = \"grey\",\n",
    "         grid= True)\n",
    "\n",
    "plt.title('Chinese & Iberic Bigram', fontsize=60)\n",
    "plt.xlabel('Kombination', fontsize=40)\n",
    "plt.ylabel('Anzahl', fontsize=40)\n",
    "plt.savefig('Top10 Combination bigram Chinese and Iberic.png', bbox_inches = 'tight')\n",
    "plt.show()"
   ]
  },
  {
   "cell_type": "code",
   "execution_count": null,
   "metadata": {},
   "outputs": [],
   "source": [
    "df4c.plot.bar(x='CombinationChinese',\n",
    "         y='CountChinese', \n",
    "         color=['red'],   \n",
    "         fontsize=20, \n",
    "         figsize=(20, 8),\n",
    "         edgecolor = \"grey\", \n",
    "         grid= True)\n",
    "plt.title('Chinese Bigram', fontsize=60)\n",
    "plt.xlabel('Kombination', fontsize=40)\n",
    "plt.ylabel('Anzahl', fontsize=40)\n",
    "plt.savefig('Top10 Combination bigram Chinese.png', bbox_inches = 'tight')\n",
    "plt.show()"
   ]
  },
  {
   "cell_type": "code",
   "execution_count": null,
   "metadata": {},
   "outputs": [],
   "source": [
    "df4i.plot.bar(x='CombinationIberic',\n",
    "         y='CountIberic', \n",
    "         color=['skyblue'],  \n",
    "         fontsize=20, \n",
    "         figsize=(20, 8),\n",
    "         edgecolor = \"grey\", \n",
    "         grid= True)\n",
    "plt.title('Iberic Bigram', fontsize=60)\n",
    "plt.xlabel('Kombination', fontsize=40)\n",
    "plt.ylabel('Anzahl', fontsize=40)\n",
    "plt.savefig('Top10 Combination bigram Iberic.png', bbox_inches = 'tight')\n",
    "plt.show()"
   ]
  },
  {
   "cell_type": "markdown",
   "metadata": {},
   "source": [
    "# A more intresting way to display data\n",
    "https://github.com/JasonKessler/scattertext"
   ]
  },
  {
   "cell_type": "code",
   "execution_count": null,
   "metadata": {},
   "outputs": [],
   "source": [
    "import string\n",
    "%matplotlib inline\n",
    "import scattertext as st\n",
    "import re, io\n",
    "from pprint import pprint\n",
    "import pandas as pd\n",
    "import numpy as np\n",
    "from scipy.stats import rankdata, hmean, norm\n",
    "import spacy\n",
    "import os, pkgutil, json, urllib\n",
    "from urllib.request import urlopen\n",
    "from IPython.display import IFrame\n",
    "from IPython.core.display import display, HTML\n",
    "from scattertext import CorpusFromPandas, produce_scattertext_explorer"
   ]
  },
  {
   "cell_type": "code",
   "execution_count": null,
   "metadata": {},
   "outputs": [],
   "source": [
    "nlp = spacy.load('en_core_web_sm')"
   ]
  },
  {
   "cell_type": "code",
   "execution_count": null,
   "metadata": {},
   "outputs": [],
   "source": [
    "new_df['parsed'] = new_df.cleanText.apply(nlp)\n",
    "new_df.head(5)"
   ]
  },
  {
   "cell_type": "code",
   "execution_count": null,
   "metadata": {},
   "outputs": [],
   "source": [
    "corpus = st.CorpusFromParsedDocuments(new_df, category_col='cuisine', parsed_col='parsed').build()\n",
    "print(corpus)"
   ]
  },
  {
   "cell_type": "code",
   "execution_count": null,
   "metadata": {},
   "outputs": [],
   "source": [
    "html = produce_scattertext_explorer(corpus,\n",
    "                                    category='Iberic',\n",
    "                                    category_name='Iberic',\n",
    "                                    not_category_name='Chinese',\n",
    "                                    width_in_pixels=1200,\n",
    "                                    minimum_term_frequency=1,\n",
    "                                    transform=st.Scalers.scale,\n",
    "                                    metadata=new_df['cuisine'])\n",
    "file_name = 'scattertext/ChineseIbericCusineScattertextScale.html'\n",
    "open(file_name, 'wb').write(html.encode('utf-8'))\n",
    "IFrame(src=file_name, width = 1600, height=800)"
   ]
  },
  {
   "cell_type": "code",
   "execution_count": null,
   "metadata": {},
   "outputs": [],
   "source": []
  },
  {
   "cell_type": "code",
   "execution_count": null,
   "metadata": {},
   "outputs": [],
   "source": []
  }
 ],
 "metadata": {
  "kernelspec": {
   "display_name": "Python 3",
   "language": "python",
   "name": "python3"
  },
  "language_info": {
   "codemirror_mode": {
    "name": "ipython",
    "version": 3
   },
   "file_extension": ".py",
   "mimetype": "text/x-python",
   "name": "python",
   "nbconvert_exporter": "python",
   "pygments_lexer": "ipython3",
   "version": "3.8.5"
  }
 },
 "nbformat": 4,
 "nbformat_minor": 5
}

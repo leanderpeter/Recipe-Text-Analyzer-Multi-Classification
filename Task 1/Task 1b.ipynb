{
 "cells": [
  {
   "cell_type": "markdown",
   "id": "2f1639c1-ac1d-4989-a143-00dc83918bc0",
   "metadata": {},
   "source": [
    "# Task 1b - Big Data Scenarios - Prof. Meth"
   ]
  },
  {
   "cell_type": "code",
   "execution_count": 3,
   "id": "46735475-bba3-4dea-aeec-e3c572b40b16",
   "metadata": {},
   "outputs": [],
   "source": [
    "import pandas as pd\n",
    "import csv\n",
    "\n",
    "df = pd.read_csv('train_data_w_ingredients.csv', sep=';', error_bad_lines=False)"
   ]
  },
  {
   "cell_type": "markdown",
   "id": "146f0ee8-f0cf-4270-a898-1a900dab11cb",
   "metadata": {},
   "source": [
    "First look"
   ]
  },
  {
   "cell_type": "code",
   "execution_count": 4,
   "id": "51d0fffd-89fe-4ef7-abc9-ff0f536cd7ab",
   "metadata": {},
   "outputs": [
    {
     "data": {
      "text/plain": [
       "Unnamed: 0                                                     1\n",
       "index                                                          1\n",
       "name                                         Vietnamese Pho Soup\n",
       "ingredients    ['8 cups beef broth', '4 cups water', '1 yello...\n",
       "cuisine                                               Vietnamese\n",
       "Name: 0, dtype: object"
      ]
     },
     "execution_count": 4,
     "metadata": {},
     "output_type": "execute_result"
    }
   ],
   "source": [
    "df.iloc[0]"
   ]
  },
  {
   "cell_type": "code",
   "execution_count": 5,
   "id": "e955954f-cdda-4304-889c-5dd4f47d6e31",
   "metadata": {},
   "outputs": [
    {
     "data": {
      "text/html": [
       "<div>\n",
       "<style scoped>\n",
       "    .dataframe tbody tr th:only-of-type {\n",
       "        vertical-align: middle;\n",
       "    }\n",
       "\n",
       "    .dataframe tbody tr th {\n",
       "        vertical-align: top;\n",
       "    }\n",
       "\n",
       "    .dataframe thead th {\n",
       "        text-align: right;\n",
       "    }\n",
       "</style>\n",
       "<table border=\"1\" class=\"dataframe\">\n",
       "  <thead>\n",
       "    <tr style=\"text-align: right;\">\n",
       "      <th></th>\n",
       "      <th>Unnamed: 0</th>\n",
       "      <th>index</th>\n",
       "      <th>name</th>\n",
       "      <th>ingredients</th>\n",
       "      <th>cuisine</th>\n",
       "    </tr>\n",
       "  </thead>\n",
       "  <tbody>\n",
       "    <tr>\n",
       "      <th>0</th>\n",
       "      <td>1</td>\n",
       "      <td>1</td>\n",
       "      <td>Vietnamese Pho Soup</td>\n",
       "      <td>['8 cups beef broth', '4 cups water', '1 yello...</td>\n",
       "      <td>Vietnamese</td>\n",
       "    </tr>\n",
       "    <tr>\n",
       "      <th>1</th>\n",
       "      <td>2</td>\n",
       "      <td>2</td>\n",
       "      <td>Vietnamese Chicken Meatballs</td>\n",
       "      <td>['1 pound ground chicken', '3 tablespoons fish...</td>\n",
       "      <td>Vietnamese</td>\n",
       "    </tr>\n",
       "    <tr>\n",
       "      <th>2</th>\n",
       "      <td>3</td>\n",
       "      <td>3</td>\n",
       "      <td>Vietnamese Restaurant-Style Grilled Lemongrass...</td>\n",
       "      <td>['1 pound pork blade steaks (boneless, about 1...</td>\n",
       "      <td>Vietnamese</td>\n",
       "    </tr>\n",
       "    <tr>\n",
       "      <th>3</th>\n",
       "      <td>4</td>\n",
       "      <td>4</td>\n",
       "      <td>Vietnamese Caramel Chicken</td>\n",
       "      <td>['1 pound chicken thighs (with skin, deboned)'...</td>\n",
       "      <td>Vietnamese</td>\n",
       "    </tr>\n",
       "    <tr>\n",
       "      <th>4</th>\n",
       "      <td>5</td>\n",
       "      <td>5</td>\n",
       "      <td>Cheater Vietnamese Pho (Pho Bo)</td>\n",
       "      <td>['3 marrow bones (beef bone)', '50 ounces beef...</td>\n",
       "      <td>Vietnamese</td>\n",
       "    </tr>\n",
       "  </tbody>\n",
       "</table>\n",
       "</div>"
      ],
      "text/plain": [
       "   Unnamed: 0  index                                               name  \\\n",
       "0           1      1                                Vietnamese Pho Soup   \n",
       "1           2      2                       Vietnamese Chicken Meatballs   \n",
       "2           3      3  Vietnamese Restaurant-Style Grilled Lemongrass...   \n",
       "3           4      4                         Vietnamese Caramel Chicken   \n",
       "4           5      5                    Cheater Vietnamese Pho (Pho Bo)   \n",
       "\n",
       "                                         ingredients     cuisine  \n",
       "0  ['8 cups beef broth', '4 cups water', '1 yello...  Vietnamese  \n",
       "1  ['1 pound ground chicken', '3 tablespoons fish...  Vietnamese  \n",
       "2  ['1 pound pork blade steaks (boneless, about 1...  Vietnamese  \n",
       "3  ['1 pound chicken thighs (with skin, deboned)'...  Vietnamese  \n",
       "4  ['3 marrow bones (beef bone)', '50 ounces beef...  Vietnamese  "
      ]
     },
     "execution_count": 5,
     "metadata": {},
     "output_type": "execute_result"
    }
   ],
   "source": [
    "df.head(5)"
   ]
  },
  {
   "cell_type": "code",
   "execution_count": 6,
   "id": "9ca860d7-3838-4095-8ab5-2d5bf6cffc2c",
   "metadata": {},
   "outputs": [
    {
     "name": "stdout",
     "output_type": "stream",
     "text": [
      "Document Count\n",
      "cuisine\n",
      "Chinese       60\n",
      "Greek         50\n",
      "Iberic        40\n",
      "Italian       50\n",
      "Thai          50\n",
      "Vietnamese    50\n",
      "french        50\n",
      "korean        50\n",
      "Name: ingredients, dtype: int64\n"
     ]
    }
   ],
   "source": [
    "print(\"Document Count\")\n",
    "print(df.groupby('cuisine')['ingredients'].count())"
   ]
  },
  {
   "cell_type": "markdown",
   "id": "7b407fea-a78b-4680-a1a1-1caa0005f2f3",
   "metadata": {},
   "source": [
    "#### Interpretation\n",
    "Man kann sehen, dass es im Schnitt 50 Rezepte für jede Küchenart gibt. Unsere beiden Küchenarten stechen dabei heraus, da wir 60 Chinesische Rezepte haben und nur 40 ibirische Rezepte."
   ]
  },
  {
   "cell_type": "markdown",
   "id": "8e110701-0005-453a-8811-cf97402646d6",
   "metadata": {},
   "source": [
    "## Blick auf die Daten"
   ]
  },
  {
   "cell_type": "code",
   "execution_count": 9,
   "id": "4c63610c-11dd-4df3-924f-ae0cc9d36be5",
   "metadata": {},
   "outputs": [
    {
     "data": {
      "text/plain": [
       "\"['8 cups beef broth', '4 cups water', '1 yellow onion (medium, quartered)', '4 cloves garlic (roughly minced)', '3 whole star anise (optional if you don’t like the flavor)', '3 whole cloves (talking about the spice, “cloves”)', '1 ginger (3-inch knob of, sliced into coins)', '1 cinnamon stick', '2 tablespoons fish sauce (optional)', 'salt', 'black pepper', '1 package rice noodles (look for the word “pho” on the package)', '12 ounces steak (very thinly sliced against the grain, I used flank steak)', 'bean sprouts (optional)', 'fresh cilantro (optional)', 'fresh ginger (optional)', 'lime wedges (optional)', 'green onions (optional)', 'jalapenos (optional)', 'thai basil (optional)']\""
      ]
     },
     "execution_count": 9,
     "metadata": {},
     "output_type": "execute_result"
    }
   ],
   "source": [
    "df['ingredients'].iloc[0]"
   ]
  },
  {
   "cell_type": "markdown",
   "id": "1bfdfce1-62f0-4ea9-a4fa-0ea9e47ca3b4",
   "metadata": {},
   "source": [
    "#### Interpretation\n",
    "Man kann erkennen das viele Wörter & Symbole unnötig sind (Einheiten, Zahlen, Punctiation). Auch die typischen Stopwords müssen gefiltert werden. Zum verdeutlichen führen wir einen kurzen Test durch indem wir die 30 häufigsten Wörter anschauen"
   ]
  },
  {
   "cell_type": "code",
   "execution_count": 11,
   "id": "d0ee2440-3e32-43e2-8e08-2aaffe2cc64f",
   "metadata": {},
   "outputs": [
    {
     "data": {
      "text/plain": [
       "[(\"'1\", 1637),\n",
       " (\"'2\", 795),\n",
       " ('cup', 733),\n",
       " ('teaspoon', 689),\n",
       " ('tablespoons', 609),\n",
       " (\"'1/2\", 502),\n",
       " ('tablespoon', 458),\n",
       " (\"'1/4\", 331),\n",
       " (\"'3\", 323),\n",
       " ('garlic', 273),\n",
       " ('cups', 270),\n",
       " (\"oil',\", 266),\n",
       " ('and', 239),\n",
       " (\"sauce',\", 237),\n",
       " ('1/2', 227),\n",
       " (\"'4\", 217),\n",
       " ('fresh', 208),\n",
       " ('cloves', 200),\n",
       " ('into', 187),\n",
       " ('ounces', 182),\n",
       " ('teaspoons', 182),\n",
       " ('red', 181),\n",
       " ('chicken', 163),\n",
       " ('ground', 159),\n",
       " (\"['1\", 153),\n",
       " ('or', 149),\n",
       " (\"salt',\", 148),\n",
       " ('soy', 146),\n",
       " ('pound', 144),\n",
       " ('olive', 143)]"
      ]
     },
     "execution_count": 11,
     "metadata": {},
     "output_type": "execute_result"
    }
   ],
   "source": [
    "from collections import Counter\n",
    "df['ingredients'] = df['ingredients']\n",
    "Counter(\" \".join(df[\"ingredients\"]).split()).most_common(30)"
   ]
  },
  {
   "cell_type": "markdown",
   "id": "34c33410-3d9a-456e-9bce-8a29df3ab6ed",
   "metadata": {},
   "source": [
    "Die Vermutung lässt also sehr leicht bestätigen indem man die obere Liste betrachtet. \n",
    "Nur die nachfolgenden Begriff können alleinstehend als tatsächliche Zutat erkennen:\n",
    "- garlic\n",
    "- chicken\n",
    "- salt\n",
    "- soy \n",
    "- olive\n",
    "\n",
    "Also gerade einmal 5/30 Zutaten.\n"
   ]
  },
  {
   "cell_type": "markdown",
   "id": "cc3bbe5f-4e9f-4ceb-b6fc-c565d311f8fe",
   "metadata": {},
   "source": [
    "# Preprocessing"
   ]
  },
  {
   "cell_type": "markdown",
   "id": "0b559dff-c3ea-4ea9-8b78-50305eee2c56",
   "metadata": {},
   "source": [
    "https://stackoverflow.com/questions/47557563/lemmatization-of-all-pandas-cells"
   ]
  },
  {
   "cell_type": "markdown",
   "id": "c2738bc3-3160-41aa-8c62-a3620d9f6350",
   "metadata": {},
   "source": [
    "Erzeugen von drei zusätzlichen Dataframes"
   ]
  },
  {
   "cell_type": "code",
   "execution_count": 7,
   "id": "53c040da-03ca-4196-a03b-e9c5346b9574",
   "metadata": {},
   "outputs": [],
   "source": [
    "#only our cuisines\n",
    "new_df = df.loc[(df['cuisine'] == 'Chinese') | (df['cuisine'] == 'Iberic')]\n",
    "chinese = df.loc[(df['cuisine'] == 'Chinese')]\n",
    "iberic = df.loc[(df['cuisine'] == 'Iberic')]"
   ]
  },
  {
   "cell_type": "code",
   "execution_count": null,
   "id": "18169bb8-737f-4795-b56d-1246031ef565",
   "metadata": {},
   "outputs": [],
   "source": []
  }
 ],
 "metadata": {
  "kernelspec": {
   "display_name": "Python 3",
   "language": "python",
   "name": "python3"
  },
  "language_info": {
   "codemirror_mode": {
    "name": "ipython",
    "version": 3
   },
   "file_extension": ".py",
   "mimetype": "text/x-python",
   "name": "python",
   "nbconvert_exporter": "python",
   "pygments_lexer": "ipython3",
   "version": "3.8.8"
  }
 },
 "nbformat": 4,
 "nbformat_minor": 5
}

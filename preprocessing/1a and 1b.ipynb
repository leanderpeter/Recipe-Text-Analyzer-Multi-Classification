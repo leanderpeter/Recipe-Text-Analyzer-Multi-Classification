{
 "cells": [
  {
   "cell_type": "markdown",
   "metadata": {},
   "source": [
    "## Importing"
   ]
  },
  {
   "cell_type": "code",
   "execution_count": 55,
   "metadata": {},
   "outputs": [
    {
     "data": {
      "text/plain": [
       "Unnamed: 0                                                     1\n",
       "index                                                          1\n",
       "name                                         Vietnamese Pho Soup\n",
       "ingredients    ['8 cups beef broth', '4 cups water', '1 yello...\n",
       "cuisine                                               Vietnamese\n",
       "Name: 0, dtype: object"
      ]
     },
     "execution_count": 55,
     "metadata": {},
     "output_type": "execute_result"
    }
   ],
   "source": [
    "import pandas as pd\n",
    "import csv\n",
    "\n",
    "df = pd.read_csv('training_data_w_ingredients.csv', sep=';', error_bad_lines=False)\n",
    "df.iloc[0]"
   ]
  },
  {
   "cell_type": "code",
   "execution_count": 56,
   "metadata": {},
   "outputs": [
    {
     "name": "stdout",
     "output_type": "stream",
     "text": [
      "Document Count\n",
      "cuisine\n",
      "Chinese       60\n",
      "Greek         50\n",
      "Iberic        40\n",
      "Italian       50\n",
      "Thai          50\n",
      "Vietnamese    50\n",
      "french        50\n",
      "korean        50\n",
      "Name: ingredients, dtype: int64\n"
     ]
    }
   ],
   "source": [
    "print(\"Document Count\")\n",
    "print(df.groupby('cuisine')['ingredients'].count())"
   ]
  },
  {
   "cell_type": "markdown",
   "metadata": {},
   "source": [
    "# Data Exploration"
   ]
  },
  {
   "cell_type": "markdown",
   "metadata": {},
   "source": [
    "## General look up\n",
    "The goal is to get a first impression of the most common words."
   ]
  },
  {
   "cell_type": "code",
   "execution_count": 57,
   "metadata": {},
   "outputs": [
    {
     "data": {
      "text/plain": [
       "[(\"'1\", 1635),\n",
       " (\"'2\", 789),\n",
       " ('cup', 729),\n",
       " ('teaspoon', 685),\n",
       " ('tablespoons', 605)]"
      ]
     },
     "execution_count": 57,
     "metadata": {},
     "output_type": "execute_result"
    }
   ],
   "source": [
    "from collections import Counter\n",
    "df['ingredients'] = df['ingredients']\n",
    "Counter(\" \".join(df[\"ingredients\"]).split()).most_common(5)"
   ]
  },
  {
   "cell_type": "markdown",
   "metadata": {},
   "source": [
    "None of these words are relevant for our further analysis of the Data.\n",
    "\n",
    "Let's have a look at the typical count of ingredients."
   ]
  },
  {
   "cell_type": "code",
   "execution_count": 4,
   "metadata": {},
   "outputs": [
    {
     "data": {
      "text/plain": [
       "0    100\n",
       "1     57\n",
       "2     59\n",
       "3     44\n",
       "4     70\n",
       "Name: ingredients, dtype: int64"
      ]
     },
     "execution_count": 4,
     "metadata": {},
     "output_type": "execute_result"
    }
   ],
   "source": [
    "df['ingredients'].str.split().str.len().head()"
   ]
  },
  {
   "cell_type": "markdown",
   "metadata": {},
   "source": [
    "## Let's make it more intresting\n",
    "With scattertextplot we can visualize the words and the frequenz of them"
   ]
  },
  {
   "cell_type": "code",
   "execution_count": 5,
   "metadata": {},
   "outputs": [],
   "source": [
    "##import\n",
    "import string\n",
    "%matplotlib inline\n",
    "import scattertext as st\n",
    "import re, io\n",
    "from pprint import pprint\n",
    "import pandas as pd\n",
    "import numpy as np\n",
    "from scipy.stats import rankdata, hmean, norm\n",
    "import spacy\n",
    "import os, pkgutil, json, urllib\n",
    "from urllib.request import urlopen\n",
    "from IPython.display import IFrame\n",
    "from IPython.core.display import display, HTML\n",
    "from scattertext import CorpusFromPandas, produce_scattertext_explorer"
   ]
  },
  {
   "cell_type": "code",
   "execution_count": 6,
   "metadata": {},
   "outputs": [],
   "source": [
    "# error handling https://stackoverflow.com/questions/66149878/e053-could-not-read-config-cfg-resumeparser\n",
    "nlp = spacy.load('en_core_web_sm')"
   ]
  },
  {
   "cell_type": "code",
   "execution_count": 7,
   "metadata": {},
   "outputs": [
    {
     "data": {
      "text/html": [
       "<div>\n",
       "<style scoped>\n",
       "    .dataframe tbody tr th:only-of-type {\n",
       "        vertical-align: middle;\n",
       "    }\n",
       "\n",
       "    .dataframe tbody tr th {\n",
       "        vertical-align: top;\n",
       "    }\n",
       "\n",
       "    .dataframe thead th {\n",
       "        text-align: right;\n",
       "    }\n",
       "</style>\n",
       "<table border=\"1\" class=\"dataframe\">\n",
       "  <thead>\n",
       "    <tr style=\"text-align: right;\">\n",
       "      <th></th>\n",
       "      <th>Unnamed: 0</th>\n",
       "      <th>index</th>\n",
       "      <th>name</th>\n",
       "      <th>ingredients</th>\n",
       "      <th>cuisine</th>\n",
       "    </tr>\n",
       "  </thead>\n",
       "  <tbody>\n",
       "    <tr>\n",
       "      <th>0</th>\n",
       "      <td>1</td>\n",
       "      <td>1</td>\n",
       "      <td>Vietnamese Pho Soup</td>\n",
       "      <td>['8 cups beef broth', '4 cups water', '1 yello...</td>\n",
       "      <td>Vietnamese</td>\n",
       "    </tr>\n",
       "    <tr>\n",
       "      <th>1</th>\n",
       "      <td>2</td>\n",
       "      <td>2</td>\n",
       "      <td>Vietnamese Chicken Meatballs</td>\n",
       "      <td>['1 pound ground chicken', '3 tablespoons fish...</td>\n",
       "      <td>Vietnamese</td>\n",
       "    </tr>\n",
       "    <tr>\n",
       "      <th>2</th>\n",
       "      <td>3</td>\n",
       "      <td>3</td>\n",
       "      <td>Vietnamese Restaurant-Style Grilled Lemongrass...</td>\n",
       "      <td>['1 pound pork blade steaks (boneless, about 1...</td>\n",
       "      <td>Vietnamese</td>\n",
       "    </tr>\n",
       "    <tr>\n",
       "      <th>3</th>\n",
       "      <td>4</td>\n",
       "      <td>4</td>\n",
       "      <td>Vietnamese Caramel Chicken</td>\n",
       "      <td>['1 pound chicken thighs (with skin, deboned)'...</td>\n",
       "      <td>Vietnamese</td>\n",
       "    </tr>\n",
       "    <tr>\n",
       "      <th>4</th>\n",
       "      <td>5</td>\n",
       "      <td>5</td>\n",
       "      <td>Cheater Vietnamese Pho (Pho Bo)</td>\n",
       "      <td>['3 marrow bones (beef bone)', '50 ounces beef...</td>\n",
       "      <td>Vietnamese</td>\n",
       "    </tr>\n",
       "  </tbody>\n",
       "</table>\n",
       "</div>"
      ],
      "text/plain": [
       "   Unnamed: 0  index                                               name  \\\n",
       "0           1      1                                Vietnamese Pho Soup   \n",
       "1           2      2                       Vietnamese Chicken Meatballs   \n",
       "2           3      3  Vietnamese Restaurant-Style Grilled Lemongrass...   \n",
       "3           4      4                         Vietnamese Caramel Chicken   \n",
       "4           5      5                    Cheater Vietnamese Pho (Pho Bo)   \n",
       "\n",
       "                                         ingredients     cuisine  \n",
       "0  ['8 cups beef broth', '4 cups water', '1 yello...  Vietnamese  \n",
       "1  ['1 pound ground chicken', '3 tablespoons fish...  Vietnamese  \n",
       "2  ['1 pound pork blade steaks (boneless, about 1...  Vietnamese  \n",
       "3  ['1 pound chicken thighs (with skin, deboned)'...  Vietnamese  \n",
       "4  ['3 marrow bones (beef bone)', '50 ounces beef...  Vietnamese  "
      ]
     },
     "execution_count": 7,
     "metadata": {},
     "output_type": "execute_result"
    }
   ],
   "source": [
    "df.head()"
   ]
  },
  {
   "cell_type": "markdown",
   "metadata": {},
   "source": [
    "## Words to Remove \n",
    "This code and these word lists are copied over as is."
   ]
  },
  {
   "cell_type": "code",
   "execution_count": 8,
   "metadata": {},
   "outputs": [
    {
     "name": "stderr",
     "output_type": "stream",
     "text": [
      "[nltk_data] Downloading package wordnet to\n",
      "[nltk_data]     /Users/adrianawad/nltk_data...\n",
      "[nltk_data]   Package wordnet is already up-to-date!\n"
     ]
    }
   ],
   "source": [
    "import nltk\n",
    "nltk.download('wordnet')\n",
    "from nltk.stem import WordNetLemmatizer\n",
    "\n",
    "lemmatizer = WordNetLemmatizer()\n",
    "\n",
    "#Source for list below\n",
    "#https://en.wikipedia.org/wiki/Cooking_weights_and_measures\n",
    "#https://thebakingpan.com/ingredient-weights-and-measures/\n",
    "measures=['ounces','tablespoons','litrbes','liter','millilitres','mL','grams','g', 'kg','teaspoon','tsp', 'tablespoon','tbsp','fluid', 'ounce','oz','fl.oz', 'cup','pint','pt','quart','qt','gallon','gal','smidgen','drop','pinch','dash','scruple','dessertspoon','teacup','cup','cups','c','pottle','gill','dram','wineglass','coffeespoon','pound','pounded','lb','tbsp','plus','firmly', 'packed','lightly','level','even','rounded','heaping','heaped','sifted','bushel','peck','stick','chopped','sliced','halves', 'shredded','slivered','sliced','whole','paste','whole',' fresh', 'peeled', 'diced','mashed','dried','frozen','fresh','peeled','candied','no', 'pulp','crystallized','canned','crushed','minced','julienned','clove','head', 'small','large','medium', 'torn', 'cleaned', 'degree']\n",
    "\n",
    "#measures = [lemmatizer.lemmatize(m) for m in measures]\n",
    "#some of these include data leakage words, like 'italian' - ok to remove after including bigrams\n",
    "data_leaks = ['iberic','greek', 'korean','italianstyle', 'french','thai', 'chinese', 'mexican','spanish','indian','italian']\n",
    "\n",
    "common_remove=['ground','to','taste', 'and', 'or',  'can',  'into', 'cut', 'grated', 'leaf','package','finely','divided','a','piece','optional','inch','needed','more','drained','for','flake','dry','thinly','cubed','bunch','cube','slice','pod','beaten','seeded','uncooked','root','plain','heavy','halved','crumbled','sweet','with','hot','room','temperature','trimmed','allpurpose','deveined','bulk','seasoning','jar','food','if','bag','mix','in','each','roll','instant','double','such','frying','thawed','whipping','stock','rinsed','mild','sprig','freshly','toasted','link','boiling','cooked','unsalted','container',\n",
    "'cooking','thin','lengthwise','warm','softened','thick','quartered','juiced','pitted','chunk','melted','cold','coloring','puree','cored','stewed','floret','coarsely','the','blanched','zested','sweetened','powdered','garnish','dressing','soup','at','active','lean','chip','sour','long','ripe','skinned','fillet','from','stem','flaked','removed','stalk','unsweetened','cover','crust', 'extra', 'prepared', 'blend', 'of', 'ring',  'undrained', 'about', 'zest', ' ', '', 'spray', 'round', 'herb', 'seasoned', 'wedge', 'bitesize', 'broken', 'square', 'freshly', 'thickly', 'diagonally']\n",
    "#common_remove = [lemmatizer.lemmatize(c) for c in common_remove]\n",
    "#data_leaks = [lemmatizer.lemmatize(d) for d in data_leaks]\n",
    "# due to using bigrams not including \n",
    "useless_singles=['','black','white','red','yellow','seed','breast','confectioner','sundried','broth','bell','baby','juice','crumb','sauce','condensed','smoked','basmati','extravirgin','brown','clarified', 'soy', 'filling', 'pine', 'virgin', 'romano', 'heart', 'shell', 'thigh', 'boneless','skinless','split', 'dark', 'wheat', 'light', 'green', 'vegetable', 'curry', 'orange', 'garam', 'sesame', 'strip', 'sea', 'canola', 'mustard','powder', 'ice', 'bay', 'roasted', 'loaf', 'roast', 'powder']\n",
    "useless_singles = [lemmatizer.lemmatize(u) for u in useless_singles]"
   ]
  },
  {
   "cell_type": "markdown",
   "metadata": {},
   "source": [
    "## Clean up"
   ]
  },
  {
   "cell_type": "code",
   "execution_count": 9,
   "metadata": {},
   "outputs": [
    {
     "data": {
      "text/html": [
       "<div>\n",
       "<style scoped>\n",
       "    .dataframe tbody tr th:only-of-type {\n",
       "        vertical-align: middle;\n",
       "    }\n",
       "\n",
       "    .dataframe tbody tr th {\n",
       "        vertical-align: top;\n",
       "    }\n",
       "\n",
       "    .dataframe thead th {\n",
       "        text-align: right;\n",
       "    }\n",
       "</style>\n",
       "<table border=\"1\" class=\"dataframe\">\n",
       "  <thead>\n",
       "    <tr style=\"text-align: right;\">\n",
       "      <th></th>\n",
       "      <th>Unnamed: 0</th>\n",
       "      <th>index</th>\n",
       "      <th>name</th>\n",
       "      <th>ingredients</th>\n",
       "      <th>cuisine</th>\n",
       "      <th>cleanText</th>\n",
       "      <th>cleanTextList</th>\n",
       "      <th>parsed</th>\n",
       "    </tr>\n",
       "  </thead>\n",
       "  <tbody>\n",
       "    <tr>\n",
       "      <th>0</th>\n",
       "      <td>1</td>\n",
       "      <td>1</td>\n",
       "      <td>Vietnamese Pho Soup</td>\n",
       "      <td>['8 cups beef broth', '4 cups water', '1 yello...</td>\n",
       "      <td>Vietnamese</td>\n",
       "      <td>beef broth water yellow onion cloves garlic ro...</td>\n",
       "      <td>[beef, broth, water, yellow, onion, cloves, ga...</td>\n",
       "      <td>(beef, broth, water, yellow, onion, cloves, ga...</td>\n",
       "    </tr>\n",
       "    <tr>\n",
       "      <th>1</th>\n",
       "      <td>2</td>\n",
       "      <td>2</td>\n",
       "      <td>Vietnamese Chicken Meatballs</td>\n",
       "      <td>['1 pound ground chicken', '3 tablespoons fish...</td>\n",
       "      <td>Vietnamese</td>\n",
       "      <td>chicken fish sauce onion cloves garlic lemongr...</td>\n",
       "      <td>[chicken, fish, sauce, onion, cloves, garlic, ...</td>\n",
       "      <td>(chicken, fish, sauce, onion, cloves, garlic, ...</td>\n",
       "    </tr>\n",
       "    <tr>\n",
       "      <th>2</th>\n",
       "      <td>3</td>\n",
       "      <td>3</td>\n",
       "      <td>Vietnamese Restaurant-Style Grilled Lemongrass...</td>\n",
       "      <td>['1 pound pork blade steaks (boneless, about 1...</td>\n",
       "      <td>Vietnamese</td>\n",
       "      <td>pork blade steaks boneless light brown sugar g...</td>\n",
       "      <td>[pork, blade, steaks, boneless, light, brown, ...</td>\n",
       "      <td>(pork, blade, steaks, boneless, light, brown, ...</td>\n",
       "    </tr>\n",
       "    <tr>\n",
       "      <th>3</th>\n",
       "      <td>4</td>\n",
       "      <td>4</td>\n",
       "      <td>Vietnamese Caramel Chicken</td>\n",
       "      <td>['1 pound chicken thighs (with skin, deboned)'...</td>\n",
       "      <td>Vietnamese</td>\n",
       "      <td>chicken thighs skin deboned oil cloves garlic ...</td>\n",
       "      <td>[chicken, thighs, skin, deboned, oil, cloves, ...</td>\n",
       "      <td>(chicken, thighs, skin, deboned, oil, cloves, ...</td>\n",
       "    </tr>\n",
       "    <tr>\n",
       "      <th>4</th>\n",
       "      <td>5</td>\n",
       "      <td>5</td>\n",
       "      <td>Cheater Vietnamese Pho (Pho Bo)</td>\n",
       "      <td>['3 marrow bones (beef bone)', '50 ounces beef...</td>\n",
       "      <td>Vietnamese</td>\n",
       "      <td>marrow bones beef bone beef water onion half g...</td>\n",
       "      <td>[marrow, bones, beef, bone, beef, water, onion...</td>\n",
       "      <td>(marrow, bones, beef, bone, beef, water, onion...</td>\n",
       "    </tr>\n",
       "  </tbody>\n",
       "</table>\n",
       "</div>"
      ],
      "text/plain": [
       "   Unnamed: 0  index                                               name  \\\n",
       "0           1      1                                Vietnamese Pho Soup   \n",
       "1           2      2                       Vietnamese Chicken Meatballs   \n",
       "2           3      3  Vietnamese Restaurant-Style Grilled Lemongrass...   \n",
       "3           4      4                         Vietnamese Caramel Chicken   \n",
       "4           5      5                    Cheater Vietnamese Pho (Pho Bo)   \n",
       "\n",
       "                                         ingredients     cuisine  \\\n",
       "0  ['8 cups beef broth', '4 cups water', '1 yello...  Vietnamese   \n",
       "1  ['1 pound ground chicken', '3 tablespoons fish...  Vietnamese   \n",
       "2  ['1 pound pork blade steaks (boneless, about 1...  Vietnamese   \n",
       "3  ['1 pound chicken thighs (with skin, deboned)'...  Vietnamese   \n",
       "4  ['3 marrow bones (beef bone)', '50 ounces beef...  Vietnamese   \n",
       "\n",
       "                                           cleanText  \\\n",
       "0  beef broth water yellow onion cloves garlic ro...   \n",
       "1  chicken fish sauce onion cloves garlic lemongr...   \n",
       "2  pork blade steaks boneless light brown sugar g...   \n",
       "3  chicken thighs skin deboned oil cloves garlic ...   \n",
       "4  marrow bones beef bone beef water onion half g...   \n",
       "\n",
       "                                       cleanTextList  \\\n",
       "0  [beef, broth, water, yellow, onion, cloves, ga...   \n",
       "1  [chicken, fish, sauce, onion, cloves, garlic, ...   \n",
       "2  [pork, blade, steaks, boneless, light, brown, ...   \n",
       "3  [chicken, thighs, skin, deboned, oil, cloves, ...   \n",
       "4  [marrow, bones, beef, bone, beef, water, onion...   \n",
       "\n",
       "                                              parsed  \n",
       "0  (beef, broth, water, yellow, onion, cloves, ga...  \n",
       "1  (chicken, fish, sauce, onion, cloves, garlic, ...  \n",
       "2  (pork, blade, steaks, boneless, light, brown, ...  \n",
       "3  (chicken, thighs, skin, deboned, oil, cloves, ...  \n",
       "4  (marrow, bones, beef, bone, beef, water, onion...  "
      ]
     },
     "execution_count": 9,
     "metadata": {},
     "output_type": "execute_result"
    }
   ],
   "source": [
    "import nltk\n",
    "from nltk.tokenize import RegexpTokenizer\n",
    "from nltk.stem import WordNetLemmatizer,PorterStemmer\n",
    "from nltk.corpus import stopwords\n",
    "import re\n",
    "lemmatizer = WordNetLemmatizer()\n",
    "stemmer = PorterStemmer() \n",
    "\n",
    "def preprocess(sentence):\n",
    "    sentence=str(sentence)\n",
    "    sentence = sentence.lower()\n",
    "    sentence=sentence.replace('{html}',\"\") \n",
    "    cleanr = re.compile('<.*?>')\n",
    "    cleantext = re.sub(cleanr, '', sentence)\n",
    "    rem_url=re.sub(r'http\\S+', '',cleantext)\n",
    "    rem_num = re.sub('[0-9]+', '', rem_url)\n",
    "    tokenizer = RegexpTokenizer(r'\\w+')\n",
    "    tokens = tokenizer.tokenize(rem_num)\n",
    "    filtered_words = [w for w in tokens if len(w) > 2 if not w in stopwords.words('english')]\n",
    "    filtered_words = [w for w in filtered_words if not w in measures]\n",
    "    filtered_words = [w for w in filtered_words if not w in data_leaks]\n",
    "    filtered_words = [w for w in filtered_words if not w in common_remove]\n",
    "    stem_words=[stemmer.stem(w) for w in filtered_words]\n",
    "    lemma_words=[lemmatizer.lemmatize(w) for w in stem_words]\n",
    "\n",
    "    return \" \".join(filtered_words)\n",
    "\n",
    "\n",
    "# Apply to the DF series\n",
    "df['cleanText']=df['ingredients'].map(lambda s:preprocess(s)) \n",
    "df['cleanTextList']=df['ingredients'].map(lambda s:preprocess(s).split()) \n",
    "df['parsed'] = df.cleanText.apply(nlp)\n",
    "df.sample(10)\n",
    "df.head(5)"
   ]
  },
  {
   "cell_type": "code",
   "execution_count": 49,
   "metadata": {},
   "outputs": [],
   "source": [
    "#only our cuisines\n",
    "new_df = df.loc[(df['cuisine'] == 'Chinese') | (df['cuisine'] == 'Iberic')]\n",
    "chinese = df.loc[(df['cuisine'] == 'Chinese')]\n",
    "iberic = df.loc[(df['cuisine'] == 'Iberic')]"
   ]
  },
  {
   "cell_type": "code",
   "execution_count": 50,
   "metadata": {},
   "outputs": [
    {
     "data": {
      "text/html": [
       "<div>\n",
       "<style scoped>\n",
       "    .dataframe tbody tr th:only-of-type {\n",
       "        vertical-align: middle;\n",
       "    }\n",
       "\n",
       "    .dataframe tbody tr th {\n",
       "        vertical-align: top;\n",
       "    }\n",
       "\n",
       "    .dataframe thead th {\n",
       "        text-align: right;\n",
       "    }\n",
       "</style>\n",
       "<table border=\"1\" class=\"dataframe\">\n",
       "  <thead>\n",
       "    <tr style=\"text-align: right;\">\n",
       "      <th></th>\n",
       "      <th>Unnamed: 0</th>\n",
       "      <th>index</th>\n",
       "      <th>name</th>\n",
       "      <th>ingredients</th>\n",
       "      <th>cuisine</th>\n",
       "      <th>cleanText</th>\n",
       "      <th>cleanTextList</th>\n",
       "      <th>parsed</th>\n",
       "    </tr>\n",
       "  </thead>\n",
       "  <tbody>\n",
       "    <tr>\n",
       "      <th>307</th>\n",
       "      <td>308</td>\n",
       "      <td>308</td>\n",
       "      <td>Classic_Chinese_Chow_Mein</td>\n",
       "      <td>['2 tablespoons canola oil', '1/4 head cabbage...</td>\n",
       "      <td>Chinese</td>\n",
       "      <td>canola oil cabbage cloves garlic soy sauce aka...</td>\n",
       "      <td>[canola, oil, cabbage, cloves, garlic, soy, sa...</td>\n",
       "      <td>(canola, oil, cabbage, cloves, garlic, soy, sa...</td>\n",
       "    </tr>\n",
       "    <tr>\n",
       "      <th>324</th>\n",
       "      <td>325</td>\n",
       "      <td>325</td>\n",
       "      <td>Chinese_Chicken_and_Broccoli</td>\n",
       "      <td>['1 head broccoli (cut into florets)', '3 tabl...</td>\n",
       "      <td>Chinese</td>\n",
       "      <td>broccoli florets vegetable oil boneless chicke...</td>\n",
       "      <td>[broccoli, florets, vegetable, oil, boneless, ...</td>\n",
       "      <td>(broccoli, florets, vegetable, oil, boneless, ...</td>\n",
       "    </tr>\n",
       "    <tr>\n",
       "      <th>328</th>\n",
       "      <td>329</td>\n",
       "      <td>329</td>\n",
       "      <td>Classic_Chinese_Pepper_Steak</td>\n",
       "      <td>['1 pound boneless beef sirloin steak', '2 tab...</td>\n",
       "      <td>Chinese</td>\n",
       "      <td>boneless beef sirloin steak vegetable oil pepp...</td>\n",
       "      <td>[boneless, beef, sirloin, steak, vegetable, oi...</td>\n",
       "      <td>(boneless, beef, sirloin, steak, vegetable, oi...</td>\n",
       "    </tr>\n",
       "  </tbody>\n",
       "</table>\n",
       "</div>"
      ],
      "text/plain": [
       "     Unnamed: 0  index                          name  \\\n",
       "307         308    308     Classic_Chinese_Chow_Mein   \n",
       "324         325    325  Chinese_Chicken_and_Broccoli   \n",
       "328         329    329  Classic_Chinese_Pepper_Steak   \n",
       "\n",
       "                                           ingredients  cuisine  \\\n",
       "307  ['2 tablespoons canola oil', '1/4 head cabbage...  Chinese   \n",
       "324  ['1 head broccoli (cut into florets)', '3 tabl...  Chinese   \n",
       "328  ['1 pound boneless beef sirloin steak', '2 tab...  Chinese   \n",
       "\n",
       "                                             cleanText  \\\n",
       "307  canola oil cabbage cloves garlic soy sauce aka...   \n",
       "324  broccoli florets vegetable oil boneless chicke...   \n",
       "328  boneless beef sirloin steak vegetable oil pepp...   \n",
       "\n",
       "                                         cleanTextList  \\\n",
       "307  [canola, oil, cabbage, cloves, garlic, soy, sa...   \n",
       "324  [broccoli, florets, vegetable, oil, boneless, ...   \n",
       "328  [boneless, beef, sirloin, steak, vegetable, oi...   \n",
       "\n",
       "                                                parsed  \n",
       "307  (canola, oil, cabbage, cloves, garlic, soy, sa...  \n",
       "324  (broccoli, florets, vegetable, oil, boneless, ...  \n",
       "328  (boneless, beef, sirloin, steak, vegetable, oi...  "
      ]
     },
     "execution_count": 50,
     "metadata": {},
     "output_type": "execute_result"
    }
   ],
   "source": [
    "chinese.sample(3)"
   ]
  },
  {
   "cell_type": "code",
   "execution_count": 54,
   "metadata": {},
   "outputs": [
    {
     "data": {
      "text/html": [
       "<div>\n",
       "<style scoped>\n",
       "    .dataframe tbody tr th:only-of-type {\n",
       "        vertical-align: middle;\n",
       "    }\n",
       "\n",
       "    .dataframe tbody tr th {\n",
       "        vertical-align: top;\n",
       "    }\n",
       "\n",
       "    .dataframe thead th {\n",
       "        text-align: right;\n",
       "    }\n",
       "</style>\n",
       "<table border=\"1\" class=\"dataframe\">\n",
       "  <thead>\n",
       "    <tr style=\"text-align: right;\">\n",
       "      <th></th>\n",
       "      <th>Unnamed: 0</th>\n",
       "      <th>index</th>\n",
       "      <th>name</th>\n",
       "      <th>ingredients</th>\n",
       "      <th>cuisine</th>\n",
       "      <th>cleanText</th>\n",
       "      <th>cleanTextList</th>\n",
       "      <th>parsed</th>\n",
       "    </tr>\n",
       "  </thead>\n",
       "  <tbody>\n",
       "    <tr>\n",
       "      <th>366</th>\n",
       "      <td>367</td>\n",
       "      <td>367</td>\n",
       "      <td>Portuguese_Beans_With_Linguiça</td>\n",
       "      <td>['1/2 teaspoon salt', '1 pound linguica', '1 p...</td>\n",
       "      <td>Iberic</td>\n",
       "      <td>salt linguica pinto beans onion green bell pep...</td>\n",
       "      <td>[salt, linguica, pinto, beans, onion, green, b...</td>\n",
       "      <td>(salt, linguica, pinto, beans, onion, green, b...</td>\n",
       "    </tr>\n",
       "    <tr>\n",
       "      <th>390</th>\n",
       "      <td>391</td>\n",
       "      <td>391</td>\n",
       "      <td>Spanish_Flan</td>\n",
       "      <td>['1 1/2 cups granulated white sugar (300g)', '...</td>\n",
       "      <td>Iberic</td>\n",
       "      <td>granulated white sugar eggs full fat milk vani...</td>\n",
       "      <td>[granulated, white, sugar, eggs, full, fat, mi...</td>\n",
       "      <td>(granulated, white, sugar, eggs, full, fat, mi...</td>\n",
       "    </tr>\n",
       "    <tr>\n",
       "      <th>374</th>\n",
       "      <td>375</td>\n",
       "      <td>375</td>\n",
       "      <td>Nando’s_Portuguese_Spicy_Rice</td>\n",
       "      <td>['1 cup rice', '2 cups water', '1/3 cup frozen...</td>\n",
       "      <td>Iberic</td>\n",
       "      <td>rice water peas bell pepper onion garlic garli...</td>\n",
       "      <td>[rice, water, peas, bell, pepper, onion, garli...</td>\n",
       "      <td>(rice, water, peas, bell, pepper, onion, garli...</td>\n",
       "    </tr>\n",
       "  </tbody>\n",
       "</table>\n",
       "</div>"
      ],
      "text/plain": [
       "     Unnamed: 0  index                             name  \\\n",
       "366         367    367  Portuguese_Beans_With_Linguiça   \n",
       "390         391    391                     Spanish_Flan   \n",
       "374         375    375    Nando’s_Portuguese_Spicy_Rice   \n",
       "\n",
       "                                           ingredients cuisine  \\\n",
       "366  ['1/2 teaspoon salt', '1 pound linguica', '1 p...  Iberic   \n",
       "390  ['1 1/2 cups granulated white sugar (300g)', '...  Iberic   \n",
       "374  ['1 cup rice', '2 cups water', '1/3 cup frozen...  Iberic   \n",
       "\n",
       "                                             cleanText  \\\n",
       "366  salt linguica pinto beans onion green bell pep...   \n",
       "390  granulated white sugar eggs full fat milk vani...   \n",
       "374  rice water peas bell pepper onion garlic garli...   \n",
       "\n",
       "                                         cleanTextList  \\\n",
       "366  [salt, linguica, pinto, beans, onion, green, b...   \n",
       "390  [granulated, white, sugar, eggs, full, fat, mi...   \n",
       "374  [rice, water, peas, bell, pepper, onion, garli...   \n",
       "\n",
       "                                                parsed  \n",
       "366  (salt, linguica, pinto, beans, onion, green, b...  \n",
       "390  (granulated, white, sugar, eggs, full, fat, mi...  \n",
       "374  (rice, water, peas, bell, pepper, onion, garli...  "
      ]
     },
     "execution_count": 54,
     "metadata": {},
     "output_type": "execute_result"
    }
   ],
   "source": [
    "iberic.sample(3)"
   ]
  },
  {
   "cell_type": "code",
   "execution_count": 53,
   "metadata": {},
   "outputs": [
    {
     "data": {
      "text/html": [
       "<div>\n",
       "<style scoped>\n",
       "    .dataframe tbody tr th:only-of-type {\n",
       "        vertical-align: middle;\n",
       "    }\n",
       "\n",
       "    .dataframe tbody tr th {\n",
       "        vertical-align: top;\n",
       "    }\n",
       "\n",
       "    .dataframe thead th {\n",
       "        text-align: right;\n",
       "    }\n",
       "</style>\n",
       "<table border=\"1\" class=\"dataframe\">\n",
       "  <thead>\n",
       "    <tr style=\"text-align: right;\">\n",
       "      <th></th>\n",
       "      <th>Unnamed: 0</th>\n",
       "      <th>index</th>\n",
       "      <th>name</th>\n",
       "      <th>ingredients</th>\n",
       "      <th>cuisine</th>\n",
       "      <th>cleanText</th>\n",
       "      <th>cleanTextList</th>\n",
       "      <th>parsed</th>\n",
       "    </tr>\n",
       "  </thead>\n",
       "  <tbody>\n",
       "    <tr>\n",
       "      <th>312</th>\n",
       "      <td>313</td>\n",
       "      <td>313</td>\n",
       "      <td>Classic_Pork_Fried_Rice_-_A_Chinese_Takeout_fa...</td>\n",
       "      <td>['1 tablespoon hot water', '1 teaspoon honey',...</td>\n",
       "      <td>Chinese</td>\n",
       "      <td>water honey sesame oil shaoxing wine soy sauce...</td>\n",
       "      <td>[water, honey, sesame, oil, shaoxing, wine, so...</td>\n",
       "      <td>(water, honey, sesame, oil, shaoxing, wine, so...</td>\n",
       "    </tr>\n",
       "    <tr>\n",
       "      <th>355</th>\n",
       "      <td>356</td>\n",
       "      <td>356</td>\n",
       "      <td>Chinese_Lemon_Chicken</td>\n",
       "      <td>['3 chicken breasts boneless skinless', '1 egg...</td>\n",
       "      <td>Chinese</td>\n",
       "      <td>chicken breasts boneless skinless egg teaspoon...</td>\n",
       "      <td>[chicken, breasts, boneless, skinless, egg, te...</td>\n",
       "      <td>(chicken, breasts, boneless, skinless, egg, te...</td>\n",
       "    </tr>\n",
       "    <tr>\n",
       "      <th>345</th>\n",
       "      <td>346</td>\n",
       "      <td>346</td>\n",
       "      <td>How_to_make_Chinese_dumpling_wrappers</td>\n",
       "      <td>['all purpose flour (3 cups)', 'water (1.4 cup...</td>\n",
       "      <td>Chinese</td>\n",
       "      <td>purpose flour water salt spinach carrot beet j...</td>\n",
       "      <td>[purpose, flour, water, salt, spinach, carrot,...</td>\n",
       "      <td>(purpose, flour, water, salt, spinach, carrot,...</td>\n",
       "    </tr>\n",
       "  </tbody>\n",
       "</table>\n",
       "</div>"
      ],
      "text/plain": [
       "     Unnamed: 0  index                                               name  \\\n",
       "312         313    313  Classic_Pork_Fried_Rice_-_A_Chinese_Takeout_fa...   \n",
       "355         356    356                              Chinese_Lemon_Chicken   \n",
       "345         346    346              How_to_make_Chinese_dumpling_wrappers   \n",
       "\n",
       "                                           ingredients  cuisine  \\\n",
       "312  ['1 tablespoon hot water', '1 teaspoon honey',...  Chinese   \n",
       "355  ['3 chicken breasts boneless skinless', '1 egg...  Chinese   \n",
       "345  ['all purpose flour (3 cups)', 'water (1.4 cup...  Chinese   \n",
       "\n",
       "                                             cleanText  \\\n",
       "312  water honey sesame oil shaoxing wine soy sauce...   \n",
       "355  chicken breasts boneless skinless egg teaspoon...   \n",
       "345  purpose flour water salt spinach carrot beet j...   \n",
       "\n",
       "                                         cleanTextList  \\\n",
       "312  [water, honey, sesame, oil, shaoxing, wine, so...   \n",
       "355  [chicken, breasts, boneless, skinless, egg, te...   \n",
       "345  [purpose, flour, water, salt, spinach, carrot,...   \n",
       "\n",
       "                                                parsed  \n",
       "312  (water, honey, sesame, oil, shaoxing, wine, so...  \n",
       "355  (chicken, breasts, boneless, skinless, egg, te...  \n",
       "345  (purpose, flour, water, salt, spinach, carrot,...  "
      ]
     },
     "execution_count": 53,
     "metadata": {},
     "output_type": "execute_result"
    }
   ],
   "source": [
    "new_df.sample(3)"
   ]
  },
  {
   "cell_type": "code",
   "execution_count": 11,
   "metadata": {},
   "outputs": [
    {
     "name": "stdout",
     "output_type": "stream",
     "text": [
      "<scattertext.ParsedCorpus.ParsedCorpus object at 0x7f8d1c851af0>\n"
     ]
    }
   ],
   "source": [
    "corpus = st.CorpusFromParsedDocuments(new_df, category_col='cuisine', parsed_col='parsed').build()\n",
    "\n",
    "print(corpus)"
   ]
  },
  {
   "cell_type": "code",
   "execution_count": 14,
   "metadata": {},
   "outputs": [
    {
     "data": {
      "text/html": [
       "\n",
       "        <iframe\n",
       "            width=\"1200\"\n",
       "            height=\"700\"\n",
       "            src=\"output/ChineseIbericCusineScattertextScale.html\"\n",
       "            frameborder=\"0\"\n",
       "            allowfullscreen\n",
       "        ></iframe>\n",
       "        "
      ],
      "text/plain": [
       "<IPython.lib.display.IFrame at 0x7f8d1521ef70>"
      ]
     },
     "execution_count": 14,
     "metadata": {},
     "output_type": "execute_result"
    }
   ],
   "source": [
    "html = produce_scattertext_explorer(corpus,\n",
    "                                    category='Chinese',\n",
    "                                    category_name='Chinese',\n",
    "                                    not_category_name='Iberic',\n",
    "                                    width_in_pixels=1000,\n",
    "                                    minimum_term_frequency=5,\n",
    "                                    transform=st.Scalers.scale,\n",
    "                                    metadata=new_df['name'])\n",
    "file_name = 'output/ChineseIbericCusineScattertextScale.html'\n",
    "open(file_name, 'wb').write(html.encode('utf-8'))\n",
    "IFrame(src=file_name, width = 1200, height=700)"
   ]
  },
  {
   "cell_type": "code",
   "execution_count": 15,
   "metadata": {},
   "outputs": [
    {
     "data": {
      "text/plain": [
       "Unnamed: 0        int64\n",
       "index             int64\n",
       "name             object\n",
       "ingredients      object\n",
       "cuisine          object\n",
       "cleanText        object\n",
       "cleanTextList    object\n",
       "parsed           object\n",
       "dtype: object"
      ]
     },
     "execution_count": 15,
     "metadata": {},
     "output_type": "execute_result"
    }
   ],
   "source": [
    "new_df.dtypes"
   ]
  },
  {
   "cell_type": "code",
   "execution_count": 60,
   "metadata": {},
   "outputs": [],
   "source": [
    "#bigram function based on spacy\n",
    "def bigram(doc):\n",
    "    # create a list for the result\n",
    "    result = list()\n",
    "    # create a list that contains no punctuation\n",
    "    sentence = list()\n",
    "    # parse through the document to add all tokens that are words to the sentence list\n",
    "    for token in doc:\n",
    "        if token.is_alpha:\n",
    "            sentence.append(token)\n",
    "    # parse through the sentence while adding words in groups of two to the result\n",
    "    for word in range(len(sentence) - 1):\n",
    "        first_word = sentence[word]\n",
    "        second_word = sentence[word + 1]\n",
    "        element = [first_word.text, second_word.text]\n",
    "        result.append(element)\n",
    "\n",
    "    return result"
   ]
  },
  {
   "cell_type": "code",
   "execution_count": 61,
   "metadata": {},
   "outputs": [],
   "source": [
    "def generate_bigrams(text):\n",
    "    # load English model\n",
    "    nlp = spacy.load('en')\n",
    "\n",
    "    # create a document\n",
    "    doc = nlp(text)\n",
    "\n",
    "    result = bigram(doc)\n",
    "    bigrams = []\n",
    "    for element in result:\n",
    "        joined_string = \" \".join(element)\n",
    "        bigrams.append(joined_string)\n",
    "        \n",
    "    \n",
    "    return bigrams\n",
    "    \n",
    "\n",
    "new_df['bigrams'] = new_df['cleanText'].apply(generate_bigrams)"
   ]
  },
  {
   "cell_type": "code",
   "execution_count": 62,
   "metadata": {},
   "outputs": [
    {
     "data": {
      "text/html": [
       "<div>\n",
       "<style scoped>\n",
       "    .dataframe tbody tr th:only-of-type {\n",
       "        vertical-align: middle;\n",
       "    }\n",
       "\n",
       "    .dataframe tbody tr th {\n",
       "        vertical-align: top;\n",
       "    }\n",
       "\n",
       "    .dataframe thead th {\n",
       "        text-align: right;\n",
       "    }\n",
       "</style>\n",
       "<table border=\"1\" class=\"dataframe\">\n",
       "  <thead>\n",
       "    <tr style=\"text-align: right;\">\n",
       "      <th></th>\n",
       "      <th>Unnamed: 0</th>\n",
       "      <th>index</th>\n",
       "      <th>name</th>\n",
       "      <th>ingredients</th>\n",
       "      <th>cuisine</th>\n",
       "      <th>cleanText</th>\n",
       "      <th>cleanTextList</th>\n",
       "      <th>parsed</th>\n",
       "      <th>bigrams</th>\n",
       "    </tr>\n",
       "  </thead>\n",
       "  <tbody>\n",
       "    <tr>\n",
       "      <th>300</th>\n",
       "      <td>301</td>\n",
       "      <td>301</td>\n",
       "      <td>BEST_CHINESE_STIR_FRY_SAUCE</td>\n",
       "      <td>['2 cloves garlic (minced)', '1 tablespoon fre...</td>\n",
       "      <td>Chinese</td>\n",
       "      <td>cloves garlic ginger fine sesame oil rice vine...</td>\n",
       "      <td>[cloves, garlic, ginger, fine, sesame, oil, ri...</td>\n",
       "      <td>(cloves, garlic, ginger, fine, sesame, oil, ri...</td>\n",
       "      <td>[cloves garlic, garlic ginger, ginger fine, fi...</td>\n",
       "    </tr>\n",
       "    <tr>\n",
       "      <th>301</th>\n",
       "      <td>302</td>\n",
       "      <td>302</td>\n",
       "      <td>Chinese_Chicken_Thighs</td>\n",
       "      <td>['6 chicken thighs (free range)', '2 tablespoo...</td>\n",
       "      <td>Chinese</td>\n",
       "      <td>chicken thighs free range olive oil ginger clo...</td>\n",
       "      <td>[chicken, thighs, free, range, olive, oil, gin...</td>\n",
       "      <td>(chicken, thighs, free, range, olive, oil, gin...</td>\n",
       "      <td>[chicken thighs, thighs free, free range, rang...</td>\n",
       "    </tr>\n",
       "    <tr>\n",
       "      <th>302</th>\n",
       "      <td>303</td>\n",
       "      <td>303</td>\n",
       "      <td>Chinese_Fried_Rice</td>\n",
       "      <td>['2 tablespoons butter (divided)', '2 eggs (be...</td>\n",
       "      <td>Chinese</td>\n",
       "      <td>butter eggs yellow onion carrots peas cloves g...</td>\n",
       "      <td>[butter, eggs, yellow, onion, carrots, peas, c...</td>\n",
       "      <td>(butter, eggs, yellow, onion, carrots, peas, c...</td>\n",
       "      <td>[butter eggs, eggs yellow, yellow onion, onion...</td>\n",
       "    </tr>\n",
       "    <tr>\n",
       "      <th>303</th>\n",
       "      <td>304</td>\n",
       "      <td>304</td>\n",
       "      <td>Chinese_Beef_and_Broccoli</td>\n",
       "      <td>['1 pound lean beef (cut into thin strips)', '...</td>\n",
       "      <td>Chinese</td>\n",
       "      <td>beef strips soy sauce sherry oil high heat yel...</td>\n",
       "      <td>[beef, strips, soy, sauce, sherry, oil, high, ...</td>\n",
       "      <td>(beef, strips, soy, sauce, sherry, oil, high, ...</td>\n",
       "      <td>[beef strips, strips soy, soy sauce, sauce she...</td>\n",
       "    </tr>\n",
       "    <tr>\n",
       "      <th>304</th>\n",
       "      <td>305</td>\n",
       "      <td>305</td>\n",
       "      <td>BEST_CHINESE_STIR_FRY_SAUCE</td>\n",
       "      <td>['2 cloves garlic (minced)', '1 tablespoon fre...</td>\n",
       "      <td>Chinese</td>\n",
       "      <td>cloves garlic ginger fine sesame oil rice vine...</td>\n",
       "      <td>[cloves, garlic, ginger, fine, sesame, oil, ri...</td>\n",
       "      <td>(cloves, garlic, ginger, fine, sesame, oil, ri...</td>\n",
       "      <td>[cloves garlic, garlic ginger, ginger fine, fi...</td>\n",
       "    </tr>\n",
       "  </tbody>\n",
       "</table>\n",
       "</div>"
      ],
      "text/plain": [
       "     Unnamed: 0  index                         name  \\\n",
       "300         301    301  BEST_CHINESE_STIR_FRY_SAUCE   \n",
       "301         302    302       Chinese_Chicken_Thighs   \n",
       "302         303    303           Chinese_Fried_Rice   \n",
       "303         304    304    Chinese_Beef_and_Broccoli   \n",
       "304         305    305  BEST_CHINESE_STIR_FRY_SAUCE   \n",
       "\n",
       "                                           ingredients  cuisine  \\\n",
       "300  ['2 cloves garlic (minced)', '1 tablespoon fre...  Chinese   \n",
       "301  ['6 chicken thighs (free range)', '2 tablespoo...  Chinese   \n",
       "302  ['2 tablespoons butter (divided)', '2 eggs (be...  Chinese   \n",
       "303  ['1 pound lean beef (cut into thin strips)', '...  Chinese   \n",
       "304  ['2 cloves garlic (minced)', '1 tablespoon fre...  Chinese   \n",
       "\n",
       "                                             cleanText  \\\n",
       "300  cloves garlic ginger fine sesame oil rice vine...   \n",
       "301  chicken thighs free range olive oil ginger clo...   \n",
       "302  butter eggs yellow onion carrots peas cloves g...   \n",
       "303  beef strips soy sauce sherry oil high heat yel...   \n",
       "304  cloves garlic ginger fine sesame oil rice vine...   \n",
       "\n",
       "                                         cleanTextList  \\\n",
       "300  [cloves, garlic, ginger, fine, sesame, oil, ri...   \n",
       "301  [chicken, thighs, free, range, olive, oil, gin...   \n",
       "302  [butter, eggs, yellow, onion, carrots, peas, c...   \n",
       "303  [beef, strips, soy, sauce, sherry, oil, high, ...   \n",
       "304  [cloves, garlic, ginger, fine, sesame, oil, ri...   \n",
       "\n",
       "                                                parsed  \\\n",
       "300  (cloves, garlic, ginger, fine, sesame, oil, ri...   \n",
       "301  (chicken, thighs, free, range, olive, oil, gin...   \n",
       "302  (butter, eggs, yellow, onion, carrots, peas, c...   \n",
       "303  (beef, strips, soy, sauce, sherry, oil, high, ...   \n",
       "304  (cloves, garlic, ginger, fine, sesame, oil, ri...   \n",
       "\n",
       "                                               bigrams  \n",
       "300  [cloves garlic, garlic ginger, ginger fine, fi...  \n",
       "301  [chicken thighs, thighs free, free range, rang...  \n",
       "302  [butter eggs, eggs yellow, yellow onion, onion...  \n",
       "303  [beef strips, strips soy, soy sauce, sauce she...  \n",
       "304  [cloves garlic, garlic ginger, ginger fine, fi...  "
      ]
     },
     "execution_count": 62,
     "metadata": {},
     "output_type": "execute_result"
    }
   ],
   "source": [
    "new_df.head(5)"
   ]
  },
  {
   "cell_type": "code",
   "execution_count": 40,
   "metadata": {},
   "outputs": [
    {
     "name": "stdout",
     "output_type": "stream",
     "text": [
      "['cloves garlic', 'garlic ginger', 'ginger fine', 'fine sesame', 'sesame oil', 'oil rice', 'rice vinegar', 'vinegar soy', 'soy sauce', 'sauce chicken', 'chicken broth', 'broth vegetable', 'vegetable broth', 'broth water', 'water sriracha', 'sriracha sugar', 'sugar corn', 'corn starch']\n"
     ]
    }
   ],
   "source": [
    "print(new_df['bigrams'].iloc[0])"
   ]
  },
  {
   "cell_type": "code",
   "execution_count": null,
   "metadata": {},
   "outputs": [],
   "source": []
  },
  {
   "cell_type": "markdown",
   "metadata": {},
   "source": [
    "## Absolute number of ingredients"
   ]
  },
  {
   "cell_type": "code",
   "execution_count": 19,
   "metadata": {},
   "outputs": [],
   "source": [
    "new_df['num_ing'] = [len(x.split()) for x in new_df['cleanText'].tolist()]"
   ]
  },
  {
   "cell_type": "code",
   "execution_count": 20,
   "metadata": {},
   "outputs": [
    {
     "data": {
      "text/plain": [
       "2486"
      ]
     },
     "execution_count": 20,
     "metadata": {},
     "output_type": "execute_result"
    }
   ],
   "source": [
    "Total = new_df['num_ing'].sum()\n",
    "Total"
   ]
  },
  {
   "cell_type": "markdown",
   "metadata": {},
   "source": [
    "## Relative number of different ingredients"
   ]
  },
  {
   "cell_type": "code",
   "execution_count": 21,
   "metadata": {},
   "outputs": [
    {
     "data": {
      "text/html": [
       "<div>\n",
       "<style scoped>\n",
       "    .dataframe tbody tr th:only-of-type {\n",
       "        vertical-align: middle;\n",
       "    }\n",
       "\n",
       "    .dataframe tbody tr th {\n",
       "        vertical-align: top;\n",
       "    }\n",
       "\n",
       "    .dataframe thead th {\n",
       "        text-align: right;\n",
       "    }\n",
       "</style>\n",
       "<table border=\"1\" class=\"dataframe\">\n",
       "  <thead>\n",
       "    <tr style=\"text-align: right;\">\n",
       "      <th></th>\n",
       "      <th>Unnamed: 0</th>\n",
       "      <th>index</th>\n",
       "      <th>name</th>\n",
       "      <th>ingredients</th>\n",
       "      <th>cuisine</th>\n",
       "      <th>cleanText</th>\n",
       "      <th>cleanTextList</th>\n",
       "      <th>parsed</th>\n",
       "      <th>bigrams</th>\n",
       "      <th>num_ing</th>\n",
       "      <th>rel_ing</th>\n",
       "    </tr>\n",
       "  </thead>\n",
       "  <tbody>\n",
       "    <tr>\n",
       "      <th>300</th>\n",
       "      <td>301</td>\n",
       "      <td>301</td>\n",
       "      <td>BEST_CHINESE_STIR_FRY_SAUCE</td>\n",
       "      <td>['2 cloves garlic (minced)', '1 tablespoon fre...</td>\n",
       "      <td>Chinese</td>\n",
       "      <td>cloves garlic ginger fine sesame oil rice vine...</td>\n",
       "      <td>[cloves, garlic, ginger, fine, sesame, oil, ri...</td>\n",
       "      <td>(cloves, garlic, ginger, fine, sesame, oil, ri...</td>\n",
       "      <td>cloves garlic,garlic ginger,ginger fine,fine s...</td>\n",
       "      <td>19</td>\n",
       "      <td>0.007643</td>\n",
       "    </tr>\n",
       "    <tr>\n",
       "      <th>301</th>\n",
       "      <td>302</td>\n",
       "      <td>302</td>\n",
       "      <td>Chinese_Chicken_Thighs</td>\n",
       "      <td>['6 chicken thighs (free range)', '2 tablespoo...</td>\n",
       "      <td>Chinese</td>\n",
       "      <td>chicken thighs free range olive oil ginger clo...</td>\n",
       "      <td>[chicken, thighs, free, range, olive, oil, gin...</td>\n",
       "      <td>(chicken, thighs, free, range, olive, oil, gin...</td>\n",
       "      <td>chicken thighs,thighs free,free range,range ol...</td>\n",
       "      <td>16</td>\n",
       "      <td>0.006436</td>\n",
       "    </tr>\n",
       "    <tr>\n",
       "      <th>302</th>\n",
       "      <td>303</td>\n",
       "      <td>303</td>\n",
       "      <td>Chinese_Fried_Rice</td>\n",
       "      <td>['2 tablespoons butter (divided)', '2 eggs (be...</td>\n",
       "      <td>Chinese</td>\n",
       "      <td>butter eggs yellow onion carrots peas cloves g...</td>\n",
       "      <td>[butter, eggs, yellow, onion, carrots, peas, c...</td>\n",
       "      <td>(butter, eggs, yellow, onion, carrots, peas, c...</td>\n",
       "      <td>butter eggs,eggs yellow,yellow onion,onion car...</td>\n",
       "      <td>16</td>\n",
       "      <td>0.006436</td>\n",
       "    </tr>\n",
       "    <tr>\n",
       "      <th>303</th>\n",
       "      <td>304</td>\n",
       "      <td>304</td>\n",
       "      <td>Chinese_Beef_and_Broccoli</td>\n",
       "      <td>['1 pound lean beef (cut into thin strips)', '...</td>\n",
       "      <td>Chinese</td>\n",
       "      <td>beef strips soy sauce sherry oil high heat yel...</td>\n",
       "      <td>[beef, strips, soy, sauce, sherry, oil, high, ...</td>\n",
       "      <td>(beef, strips, soy, sauce, sherry, oil, high, ...</td>\n",
       "      <td>beef strips,strips soy,soy sauce,sauce sherry,...</td>\n",
       "      <td>39</td>\n",
       "      <td>0.015688</td>\n",
       "    </tr>\n",
       "    <tr>\n",
       "      <th>304</th>\n",
       "      <td>305</td>\n",
       "      <td>305</td>\n",
       "      <td>BEST_CHINESE_STIR_FRY_SAUCE</td>\n",
       "      <td>['2 cloves garlic (minced)', '1 tablespoon fre...</td>\n",
       "      <td>Chinese</td>\n",
       "      <td>cloves garlic ginger fine sesame oil rice vine...</td>\n",
       "      <td>[cloves, garlic, ginger, fine, sesame, oil, ri...</td>\n",
       "      <td>(cloves, garlic, ginger, fine, sesame, oil, ri...</td>\n",
       "      <td>cloves garlic,garlic ginger,ginger fine,fine s...</td>\n",
       "      <td>18</td>\n",
       "      <td>0.007241</td>\n",
       "    </tr>\n",
       "  </tbody>\n",
       "</table>\n",
       "</div>"
      ],
      "text/plain": [
       "     Unnamed: 0  index                         name  \\\n",
       "300         301    301  BEST_CHINESE_STIR_FRY_SAUCE   \n",
       "301         302    302       Chinese_Chicken_Thighs   \n",
       "302         303    303           Chinese_Fried_Rice   \n",
       "303         304    304    Chinese_Beef_and_Broccoli   \n",
       "304         305    305  BEST_CHINESE_STIR_FRY_SAUCE   \n",
       "\n",
       "                                           ingredients  cuisine  \\\n",
       "300  ['2 cloves garlic (minced)', '1 tablespoon fre...  Chinese   \n",
       "301  ['6 chicken thighs (free range)', '2 tablespoo...  Chinese   \n",
       "302  ['2 tablespoons butter (divided)', '2 eggs (be...  Chinese   \n",
       "303  ['1 pound lean beef (cut into thin strips)', '...  Chinese   \n",
       "304  ['2 cloves garlic (minced)', '1 tablespoon fre...  Chinese   \n",
       "\n",
       "                                             cleanText  \\\n",
       "300  cloves garlic ginger fine sesame oil rice vine...   \n",
       "301  chicken thighs free range olive oil ginger clo...   \n",
       "302  butter eggs yellow onion carrots peas cloves g...   \n",
       "303  beef strips soy sauce sherry oil high heat yel...   \n",
       "304  cloves garlic ginger fine sesame oil rice vine...   \n",
       "\n",
       "                                         cleanTextList  \\\n",
       "300  [cloves, garlic, ginger, fine, sesame, oil, ri...   \n",
       "301  [chicken, thighs, free, range, olive, oil, gin...   \n",
       "302  [butter, eggs, yellow, onion, carrots, peas, c...   \n",
       "303  [beef, strips, soy, sauce, sherry, oil, high, ...   \n",
       "304  [cloves, garlic, ginger, fine, sesame, oil, ri...   \n",
       "\n",
       "                                                parsed  \\\n",
       "300  (cloves, garlic, ginger, fine, sesame, oil, ri...   \n",
       "301  (chicken, thighs, free, range, olive, oil, gin...   \n",
       "302  (butter, eggs, yellow, onion, carrots, peas, c...   \n",
       "303  (beef, strips, soy, sauce, sherry, oil, high, ...   \n",
       "304  (cloves, garlic, ginger, fine, sesame, oil, ri...   \n",
       "\n",
       "                                               bigrams  num_ing   rel_ing  \n",
       "300  cloves garlic,garlic ginger,ginger fine,fine s...       19  0.007643  \n",
       "301  chicken thighs,thighs free,free range,range ol...       16  0.006436  \n",
       "302  butter eggs,eggs yellow,yellow onion,onion car...       16  0.006436  \n",
       "303  beef strips,strips soy,soy sauce,sauce sherry,...       39  0.015688  \n",
       "304  cloves garlic,garlic ginger,ginger fine,fine s...       18  0.007241  "
      ]
     },
     "execution_count": 21,
     "metadata": {},
     "output_type": "execute_result"
    }
   ],
   "source": [
    "new_df['rel_ing'] = new_df['num_ing'].div(Total)\n",
    "new_df.head()"
   ]
  },
  {
   "cell_type": "markdown",
   "metadata": {},
   "source": [
    "## Top10 most common ingredients"
   ]
  },
  {
   "cell_type": "code",
   "execution_count": 45,
   "metadata": {},
   "outputs": [
    {
     "data": {
      "text/plain": [
       "[('oil', 119),\n",
       " ('sauce', 93),\n",
       " ('garlic', 80),\n",
       " ('pepper', 62),\n",
       " ('salt', 62),\n",
       " ('soy', 60),\n",
       " ('teaspoons', 53),\n",
       " ('cloves', 52),\n",
       " ('chicken', 50),\n",
       " ('rice', 45)]"
      ]
     },
     "execution_count": 45,
     "metadata": {},
     "output_type": "execute_result"
    }
   ],
   "source": [
    "Counter(\" \".join(new_df[\"cleanText\"]).split()).most_common(10)"
   ]
  },
  {
   "cell_type": "code",
   "execution_count": 23,
   "metadata": {},
   "outputs": [
    {
     "data": {
      "text/html": [
       "<div>\n",
       "<style scoped>\n",
       "    .dataframe tbody tr th:only-of-type {\n",
       "        vertical-align: middle;\n",
       "    }\n",
       "\n",
       "    .dataframe tbody tr th {\n",
       "        vertical-align: top;\n",
       "    }\n",
       "\n",
       "    .dataframe thead th {\n",
       "        text-align: right;\n",
       "    }\n",
       "</style>\n",
       "<table border=\"1\" class=\"dataframe\">\n",
       "  <thead>\n",
       "    <tr style=\"text-align: right;\">\n",
       "      <th></th>\n",
       "      <th>word</th>\n",
       "      <th>count</th>\n",
       "    </tr>\n",
       "  </thead>\n",
       "  <tbody>\n",
       "    <tr>\n",
       "      <th>0</th>\n",
       "      <td>oil</td>\n",
       "      <td>119</td>\n",
       "    </tr>\n",
       "    <tr>\n",
       "      <th>1</th>\n",
       "      <td>sauce</td>\n",
       "      <td>93</td>\n",
       "    </tr>\n",
       "    <tr>\n",
       "      <th>2</th>\n",
       "      <td>garlic</td>\n",
       "      <td>80</td>\n",
       "    </tr>\n",
       "    <tr>\n",
       "      <th>3</th>\n",
       "      <td>pepper</td>\n",
       "      <td>62</td>\n",
       "    </tr>\n",
       "    <tr>\n",
       "      <th>4</th>\n",
       "      <td>salt</td>\n",
       "      <td>62</td>\n",
       "    </tr>\n",
       "    <tr>\n",
       "      <th>5</th>\n",
       "      <td>soy</td>\n",
       "      <td>60</td>\n",
       "    </tr>\n",
       "    <tr>\n",
       "      <th>6</th>\n",
       "      <td>teaspoons</td>\n",
       "      <td>53</td>\n",
       "    </tr>\n",
       "    <tr>\n",
       "      <th>7</th>\n",
       "      <td>cloves</td>\n",
       "      <td>52</td>\n",
       "    </tr>\n",
       "    <tr>\n",
       "      <th>8</th>\n",
       "      <td>chicken</td>\n",
       "      <td>50</td>\n",
       "    </tr>\n",
       "    <tr>\n",
       "      <th>9</th>\n",
       "      <td>rice</td>\n",
       "      <td>45</td>\n",
       "    </tr>\n",
       "  </tbody>\n",
       "</table>\n",
       "</div>"
      ],
      "text/plain": [
       "        word  count\n",
       "0        oil    119\n",
       "1      sauce     93\n",
       "2     garlic     80\n",
       "3     pepper     62\n",
       "4       salt     62\n",
       "5        soy     60\n",
       "6  teaspoons     53\n",
       "7     cloves     52\n",
       "8    chicken     50\n",
       "9       rice     45"
      ]
     },
     "execution_count": 23,
     "metadata": {},
     "output_type": "execute_result"
    }
   ],
   "source": [
    "#colors: \n",
    "\n",
    "from sklearn.feature_extraction.text import CountVectorizer\n",
    "\n",
    "import matplotlib.pyplot as plt \n",
    "import pandas as pd\n",
    "\n",
    "def get_top_n_words(corpus, n=None):\n",
    "    vec = CountVectorizer().fit(corpus)\n",
    "    bag_of_words = vec.transform(corpus)\n",
    "    sum_words = bag_of_words.sum(axis=0) \n",
    "    words_freq = [(word, sum_words[0, idx]) for word, idx in vec.vocabulary_.items()]\n",
    "    words_freq =sorted(words_freq, key = lambda x: x[1], reverse=True)\n",
    "    return words_freq[:n]\n",
    "common_words = get_top_n_words(new_df['cleanText'], 10)\n",
    "\n",
    "df1 = pd.DataFrame(common_words, columns = ['word' , 'count'])\n",
    "\n",
    "df1.head(10)"
   ]
  },
  {
   "cell_type": "code",
   "execution_count": 24,
   "metadata": {},
   "outputs": [
    {
     "data": {
      "text/plain": [
       "<Figure size 432x288 with 0 Axes>"
      ]
     },
     "metadata": {},
     "output_type": "display_data"
    },
    {
     "data": {
      "image/png": "[encoded data removed]",
      "text/plain": [
       "<Figure size 1440x576 with 1 Axes>"
      ]
     },
     "metadata": {
      "needs_background": "light"
     },
     "output_type": "display_data"
    }
   ],
   "source": [
    "plt.figure()\n",
    "df1.plot.bar(x='word',y='count', color=['coral'], alpha=0.8,  fontsize=20, figsize=(20, 8),edgecolor = \"grey\", grid= True)\n",
    "plt.xlabel('Words', fontsize=40)\n",
    "plt.ylabel('Frequenz', fontsize=40)\n",
    "plt.show()"
   ]
  },
  {
   "cell_type": "markdown",
   "metadata": {},
   "source": [
    "## Top10 most frequent ingredient bigrams"
   ]
  },
  {
   "cell_type": "code",
   "execution_count": 25,
   "metadata": {},
   "outputs": [
    {
     "data": {
      "text/html": [
       "<div>\n",
       "<style scoped>\n",
       "    .dataframe tbody tr th:only-of-type {\n",
       "        vertical-align: middle;\n",
       "    }\n",
       "\n",
       "    .dataframe tbody tr th {\n",
       "        vertical-align: top;\n",
       "    }\n",
       "\n",
       "    .dataframe thead th {\n",
       "        text-align: right;\n",
       "    }\n",
       "</style>\n",
       "<table border=\"1\" class=\"dataframe\">\n",
       "  <thead>\n",
       "    <tr style=\"text-align: right;\">\n",
       "      <th></th>\n",
       "      <th>words</th>\n",
       "      <th>count</th>\n",
       "    </tr>\n",
       "  </thead>\n",
       "  <tbody>\n",
       "    <tr>\n",
       "      <th>0</th>\n",
       "      <td>olive oil</td>\n",
       "      <td>150</td>\n",
       "    </tr>\n",
       "    <tr>\n",
       "      <th>1</th>\n",
       "      <td>soy sauce</td>\n",
       "      <td>145</td>\n",
       "    </tr>\n",
       "    <tr>\n",
       "      <th>2</th>\n",
       "      <td>cloves garlic</td>\n",
       "      <td>136</td>\n",
       "    </tr>\n",
       "    <tr>\n",
       "      <th>3</th>\n",
       "      <td>black pepper</td>\n",
       "      <td>126</td>\n",
       "    </tr>\n",
       "    <tr>\n",
       "      <th>4</th>\n",
       "      <td>fish sauce</td>\n",
       "      <td>77</td>\n",
       "    </tr>\n",
       "    <tr>\n",
       "      <th>5</th>\n",
       "      <td>garlic cloves</td>\n",
       "      <td>77</td>\n",
       "    </tr>\n",
       "    <tr>\n",
       "      <th>6</th>\n",
       "      <td>sesame oil</td>\n",
       "      <td>75</td>\n",
       "    </tr>\n",
       "    <tr>\n",
       "      <th>7</th>\n",
       "      <td>salt black</td>\n",
       "      <td>67</td>\n",
       "    </tr>\n",
       "    <tr>\n",
       "      <th>8</th>\n",
       "      <td>salt pepper</td>\n",
       "      <td>65</td>\n",
       "    </tr>\n",
       "    <tr>\n",
       "      <th>9</th>\n",
       "      <td>green onions</td>\n",
       "      <td>62</td>\n",
       "    </tr>\n",
       "  </tbody>\n",
       "</table>\n",
       "</div>"
      ],
      "text/plain": [
       "           words  count\n",
       "0      olive oil    150\n",
       "1      soy sauce    145\n",
       "2  cloves garlic    136\n",
       "3   black pepper    126\n",
       "4     fish sauce     77\n",
       "5  garlic cloves     77\n",
       "6     sesame oil     75\n",
       "7     salt black     67\n",
       "8    salt pepper     65\n",
       "9   green onions     62"
      ]
     },
     "execution_count": 25,
     "metadata": {},
     "output_type": "execute_result"
    }
   ],
   "source": [
    "def get_top_n_bigram(corpus, n=None):\n",
    "    vec = CountVectorizer(ngram_range=(2, 2)).fit(corpus)\n",
    "    bag_of_words = vec.transform(corpus)\n",
    "    sum_words = bag_of_words.sum(axis=0) \n",
    "    words_freq = [(word, sum_words[0, idx]) for word, idx in vec.vocabulary_.items()]\n",
    "    words_freq =sorted(words_freq, key = lambda x: x[1], reverse=True)\n",
    "    return words_freq[:n]\n",
    "common_words = get_top_n_bigram(df['cleanText'], 10)\n",
    "\n",
    "df2 = pd.DataFrame(common_words, columns = ['words' , 'count'])\n",
    "\n",
    "df2.head(10)"
   ]
  },
  {
   "cell_type": "code",
   "execution_count": 26,
   "metadata": {},
   "outputs": [
    {
     "data": {
      "text/plain": [
       "<Figure size 432x288 with 0 Axes>"
      ]
     },
     "metadata": {},
     "output_type": "display_data"
    },
    {
     "data": {
      "image/png": "[encoded data removed]",
      "text/plain": [
       "<Figure size 1440x576 with 1 Axes>"
      ]
     },
     "metadata": {
      "needs_background": "light"
     },
     "output_type": "display_data"
    }
   ],
   "source": [
    "plt.figure()\n",
    "df2.plot.bar(x='words',y='count', color=['coral'], alpha=0.8,  fontsize=20, figsize=(20, 8),edgecolor = \"grey\", grid= True)\n",
    "plt.xlabel('Words', fontsize=40)\n",
    "plt.ylabel('Frequenz', fontsize=40)\n",
    "plt.show()"
   ]
  },
  {
   "cell_type": "code",
   "execution_count": 27,
   "metadata": {},
   "outputs": [
    {
     "name": "stdout",
     "output_type": "stream",
     "text": [
      "cloves garlic ginger fine sesame oil rice vinegar soy sauce chicken broth vegetable broth water sriracha sugar corn starch\n"
     ]
    }
   ],
   "source": [
    "print(new_df['parsed'].iloc[0])\n",
    "\n"
   ]
  },
  {
   "cell_type": "code",
   "execution_count": 70,
   "metadata": {},
   "outputs": [
    {
     "name": "stdout",
     "output_type": "stream",
     "text": [
      "[('cloves', 'garlic'), ('cloves', 'ginger'), ('cloves', 'fine'), ('cloves', 'sesame'), ('cloves', 'oil'), ('cloves', 'rice'), ('cloves', 'vinegar'), ('cloves', 'soy'), ('cloves', 'sauce'), ('cloves', 'chicken')]\n",
      "[(('soy', 'sauce'), 82), (('garlic', 'sauce'), 64), (('oil', 'oil'), 63), (('oil', 'sauce'), 59), (('sauce', 'oil'), 58), (('garlic', 'oil'), 55), (('oil', 'garlic'), 55), (('oil', 'salt'), 54), (('chicken', 'sauce'), 52), (('teaspoons', 'oil'), 51)]\n"
     ]
    },
    {
     "data": {
      "text/html": [
       "<div>\n",
       "<style scoped>\n",
       "    .dataframe tbody tr th:only-of-type {\n",
       "        vertical-align: middle;\n",
       "    }\n",
       "\n",
       "    .dataframe tbody tr th {\n",
       "        vertical-align: top;\n",
       "    }\n",
       "\n",
       "    .dataframe thead th {\n",
       "        text-align: right;\n",
       "    }\n",
       "</style>\n",
       "<table border=\"1\" class=\"dataframe\">\n",
       "  <thead>\n",
       "    <tr style=\"text-align: right;\">\n",
       "      <th></th>\n",
       "      <th>Combination</th>\n",
       "      <th>count</th>\n",
       "    </tr>\n",
       "  </thead>\n",
       "  <tbody>\n",
       "    <tr>\n",
       "      <th>0</th>\n",
       "      <td>(soy, sauce)</td>\n",
       "      <td>82</td>\n",
       "    </tr>\n",
       "    <tr>\n",
       "      <th>1</th>\n",
       "      <td>(garlic, sauce)</td>\n",
       "      <td>64</td>\n",
       "    </tr>\n",
       "    <tr>\n",
       "      <th>2</th>\n",
       "      <td>(oil, oil)</td>\n",
       "      <td>63</td>\n",
       "    </tr>\n",
       "    <tr>\n",
       "      <th>3</th>\n",
       "      <td>(oil, sauce)</td>\n",
       "      <td>59</td>\n",
       "    </tr>\n",
       "    <tr>\n",
       "      <th>4</th>\n",
       "      <td>(sauce, oil)</td>\n",
       "      <td>58</td>\n",
       "    </tr>\n",
       "    <tr>\n",
       "      <th>5</th>\n",
       "      <td>(garlic, oil)</td>\n",
       "      <td>55</td>\n",
       "    </tr>\n",
       "    <tr>\n",
       "      <th>6</th>\n",
       "      <td>(oil, garlic)</td>\n",
       "      <td>55</td>\n",
       "    </tr>\n",
       "    <tr>\n",
       "      <th>7</th>\n",
       "      <td>(oil, salt)</td>\n",
       "      <td>54</td>\n",
       "    </tr>\n",
       "    <tr>\n",
       "      <th>8</th>\n",
       "      <td>(chicken, sauce)</td>\n",
       "      <td>52</td>\n",
       "    </tr>\n",
       "    <tr>\n",
       "      <th>9</th>\n",
       "      <td>(teaspoons, oil)</td>\n",
       "      <td>51</td>\n",
       "    </tr>\n",
       "  </tbody>\n",
       "</table>\n",
       "</div>"
      ],
      "text/plain": [
       "        Combination  count\n",
       "0      (soy, sauce)     82\n",
       "1   (garlic, sauce)     64\n",
       "2        (oil, oil)     63\n",
       "3      (oil, sauce)     59\n",
       "4      (sauce, oil)     58\n",
       "5     (garlic, oil)     55\n",
       "6     (oil, garlic)     55\n",
       "7       (oil, salt)     54\n",
       "8  (chicken, sauce)     52\n",
       "9  (teaspoons, oil)     51"
      ]
     },
     "execution_count": 70,
     "metadata": {},
     "output_type": "execute_result"
    }
   ],
   "source": [
    "import itertools\n",
    "\n",
    "a_list= new_df['cleanTextList']\n",
    "pairs = []\n",
    "\n",
    "for i in a_list:\n",
    "    for pair in itertools.combinations(i,2):\n",
    "        pairs.append(pair)\n",
    "\n",
    "print(pairs[0:10])\n",
    "print(Counter(elem[0:2] for elem in pairs).most_common(10))\n",
    "d = Counter(elem[0:2] for elem in pairs)\n",
    "singleCombinations = pd.DataFrame.from_records(d.most_common(10), columns=['Combination','count'])\n",
    "singleCombinations.head(10)"
   ]
  },
  {
   "cell_type": "code",
   "execution_count": null,
   "metadata": {},
   "outputs": [],
   "source": [
    "plt.figure()\n",
    "df2.plot.bar(x='words',y='count', color=['coral'], alpha=0.8,  fontsize=20, figsize=(20, 8),edgecolor = \"grey\", grid= True)\n",
    "plt.xlabel('Combinations', fontsize=40)\n",
    "plt.ylabel('Frequenz', fontsize=40)\n",
    "plt.show()"
   ]
  },
  {
   "cell_type": "code",
   "execution_count": 64,
   "metadata": {},
   "outputs": [
    {
     "name": "stdout",
     "output_type": "stream",
     "text": [
      "[('cloves garlic', 'garlic ginger'), ('cloves garlic', 'ginger fine'), ('cloves garlic', 'fine sesame'), ('cloves garlic', 'sesame oil'), ('cloves garlic', 'oil rice'), ('cloves garlic', 'rice vinegar'), ('cloves garlic', 'vinegar soy'), ('cloves garlic', 'soy sauce'), ('cloves garlic', 'sauce chicken'), ('cloves garlic', 'chicken broth')]\n"
     ]
    },
    {
     "data": {
      "text/plain": [
       "[(('cloves garlic', 'soy sauce'), 22),\n",
       " (('soy sauce', 'sesame oil'), 14),\n",
       " (('garlic ginger', 'soy sauce'), 11),\n",
       " (('soy sauce', 'sauce teaspoons'), 11),\n",
       " (('soy sauce', 'sesame seeds'), 11),\n",
       " (('salt black', 'black pepper'), 11),\n",
       " (('skinless chicken', 'soy sauce'), 11),\n",
       " (('sesame oil', 'soy sauce'), 10),\n",
       " (('dark soy', 'soy sauce'), 10),\n",
       " (('soy sauce', 'bean sprouts'), 10)]"
      ]
     },
     "execution_count": 64,
     "metadata": {},
     "output_type": "execute_result"
    }
   ],
   "source": [
    "pair_list= new_df['bigrams']\n",
    "pairs = []\n",
    "\n",
    "for i in pair_list:\n",
    "    for pair in itertools.combinations(i,2):\n",
    "        pairs.append(pair)\n",
    "\n",
    "print(pairs[0:10])\n",
    "\n",
    "Counter(elem[0:2] for elem in pairs).most_common(10)"
   ]
  },
  {
   "cell_type": "code",
   "execution_count": null,
   "metadata": {},
   "outputs": [],
   "source": []
  },
  {
   "cell_type": "code",
   "execution_count": null,
   "metadata": {},
   "outputs": [],
   "source": []
  },
  {
   "cell_type": "code",
   "execution_count": null,
   "metadata": {},
   "outputs": [],
   "source": []
  },
  {
   "cell_type": "code",
   "execution_count": null,
   "metadata": {},
   "outputs": [],
   "source": []
  }
 ],
 "metadata": {
  "kernelspec": {
   "display_name": "Python 3",
   "language": "python",
   "name": "python3"
  },
  "language_info": {
   "codemirror_mode": {
    "name": "ipython",
    "version": 3
   },
   "file_extension": ".py",
   "mimetype": "text/x-python",
   "name": "python",
   "nbconvert_exporter": "python",
   "pygments_lexer": "ipython3",
   "version": "3.8.5"
  }
 },
 "nbformat": 4,
 "nbformat_minor": 4
}
